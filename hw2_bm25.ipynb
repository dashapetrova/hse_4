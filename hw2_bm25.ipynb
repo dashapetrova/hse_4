{
  "nbformat": 4,
  "nbformat_minor": 0,
  "metadata": {
    "kernelspec": {
      "display_name": "Python 3",
      "language": "python",
      "name": "python3"
    },
    "language_info": {
      "codemirror_mode": {
        "name": "ipython",
        "version": 3
      },
      "file_extension": ".py",
      "mimetype": "text/x-python",
      "name": "python",
      "nbconvert_exporter": "python",
      "pygments_lexer": "ipython3",
      "version": "3.6.8"
    },
    "colab": {
      "name": "hw2_bm25.ipynb",
      "provenance": [],
      "collapsed_sections": [],
      "machine_shape": "hm"
    }
  },
  "cells": [
    {
      "cell_type": "markdown",
      "metadata": {
        "id": "2NnsBI9xfWPu",
        "colab_type": "text"
      },
      "source": [
        "Домашнее задание №2. Тема \"BM25\""
      ]
    },
    {
      "cell_type": "code",
      "metadata": {
        "id": "KQPys51myYp6",
        "colab_type": "code",
        "outputId": "b9361ae9-1640-415d-eb0d-74f122f82a0f",
        "colab": {
          "base_uri": "https://localhost:8080/",
          "height": 34
        }
      },
      "source": [
        "from google.colab import drive\n",
        "drive.mount('/content/gdrive')"
      ],
      "execution_count": 3,
      "outputs": [
        {
          "output_type": "stream",
          "text": [
            "Drive already mounted at /content/gdrive; to attempt to forcibly remount, call drive.mount(\"/content/gdrive\", force_remount=True).\n"
          ],
          "name": "stdout"
        }
      ]
    },
    {
      "cell_type": "code",
      "metadata": {
        "id": "yWH3cQXWXDpu",
        "colab_type": "code",
        "colab": {}
      },
      "source": [
        "import os\n",
        "os.chdir('gdrive/My Drive/Colab Notebooks')"
      ],
      "execution_count": 0,
      "outputs": []
    },
    {
      "cell_type": "code",
      "metadata": {
        "id": "ggbGvpwexxdc",
        "colab_type": "code",
        "colab": {}
      },
      "source": [
        "import pandas as pd\n",
        "import numpy as np"
      ],
      "execution_count": 0,
      "outputs": []
    },
    {
      "cell_type": "code",
      "metadata": {
        "id": "pFa0ssVUx3Ru",
        "colab_type": "code",
        "colab": {}
      },
      "source": [
        "table = pd.read_csv('quora_question_pairs_rus.csv')"
      ],
      "execution_count": 0,
      "outputs": []
    },
    {
      "cell_type": "code",
      "metadata": {
        "id": "wd6tY8OXzDgO",
        "colab_type": "code",
        "outputId": "aab27d7a-556b-4ea5-ab52-26d04b18f969",
        "colab": {
          "base_uri": "https://localhost:8080/",
          "height": 197
        }
      },
      "source": [
        "table.head()"
      ],
      "execution_count": 7,
      "outputs": [
        {
          "output_type": "execute_result",
          "data": {
            "text/html": [
              "<div>\n",
              "<style scoped>\n",
              "    .dataframe tbody tr th:only-of-type {\n",
              "        vertical-align: middle;\n",
              "    }\n",
              "\n",
              "    .dataframe tbody tr th {\n",
              "        vertical-align: top;\n",
              "    }\n",
              "\n",
              "    .dataframe thead th {\n",
              "        text-align: right;\n",
              "    }\n",
              "</style>\n",
              "<table border=\"1\" class=\"dataframe\">\n",
              "  <thead>\n",
              "    <tr style=\"text-align: right;\">\n",
              "      <th></th>\n",
              "      <th>Unnamed: 0</th>\n",
              "      <th>question1</th>\n",
              "      <th>question2</th>\n",
              "      <th>is_duplicate</th>\n",
              "    </tr>\n",
              "  </thead>\n",
              "  <tbody>\n",
              "    <tr>\n",
              "      <th>0</th>\n",
              "      <td>0</td>\n",
              "      <td>Какова история кохинор кох-и-ноор-бриллиант</td>\n",
              "      <td>что произойдет, если правительство Индии украд...</td>\n",
              "      <td>0</td>\n",
              "    </tr>\n",
              "    <tr>\n",
              "      <th>1</th>\n",
              "      <td>1</td>\n",
              "      <td>как я могу увеличить скорость моего интернет-с...</td>\n",
              "      <td>как повысить скорость интернета путем взлома ч...</td>\n",
              "      <td>0</td>\n",
              "    </tr>\n",
              "    <tr>\n",
              "      <th>2</th>\n",
              "      <td>2</td>\n",
              "      <td>почему я мысленно очень одинок, как я могу это...</td>\n",
              "      <td>найти остаток, когда математика 23 ^ 24 матема...</td>\n",
              "      <td>0</td>\n",
              "    </tr>\n",
              "    <tr>\n",
              "      <th>3</th>\n",
              "      <td>3</td>\n",
              "      <td>которые растворяют в воде быстро сахарную соль...</td>\n",
              "      <td>какая рыба выживет в соленой воде</td>\n",
              "      <td>0</td>\n",
              "    </tr>\n",
              "    <tr>\n",
              "      <th>4</th>\n",
              "      <td>4</td>\n",
              "      <td>астрология: я - луна-колпачок из козерога и кр...</td>\n",
              "      <td>Я тройная луна-козерог и восхождение в козерог...</td>\n",
              "      <td>1</td>\n",
              "    </tr>\n",
              "  </tbody>\n",
              "</table>\n",
              "</div>"
            ],
            "text/plain": [
              "   Unnamed: 0  ... is_duplicate\n",
              "0           0  ...            0\n",
              "1           1  ...            0\n",
              "2           2  ...            0\n",
              "3           3  ...            0\n",
              "4           4  ...            1\n",
              "\n",
              "[5 rows x 4 columns]"
            ]
          },
          "metadata": {
            "tags": []
          },
          "execution_count": 7
        }
      ]
    },
    {
      "cell_type": "code",
      "metadata": {
        "id": "XHKrIVKN0QAa",
        "colab_type": "code",
        "colab": {}
      },
      "source": [
        "N = len(table)"
      ],
      "execution_count": 0,
      "outputs": []
    },
    {
      "cell_type": "code",
      "metadata": {
        "id": "Dszxn_smtyt4",
        "colab_type": "code",
        "colab": {}
      },
      "source": [
        "test_N = 10000"
      ],
      "execution_count": 0,
      "outputs": []
    },
    {
      "cell_type": "code",
      "metadata": {
        "id": "ccBB2-v2t3Sh",
        "colab_type": "code",
        "colab": {}
      },
      "source": [
        "test_table = table.head(test_N)"
      ],
      "execution_count": 0,
      "outputs": []
    },
    {
      "cell_type": "code",
      "metadata": {
        "id": "W15OtjXh3tak",
        "colab_type": "code",
        "colab": {}
      },
      "source": [
        "doc_lens = []\n",
        "for row in test_table['question2']:\n",
        "  doc_lens.append(len(str(row).split()))"
      ],
      "execution_count": 0,
      "outputs": []
    },
    {
      "cell_type": "code",
      "metadata": {
        "id": "otoyMU6R4E6P",
        "colab_type": "code",
        "colab": {}
      },
      "source": [
        "len_mean = np.mean(doc_lens)"
      ],
      "execution_count": 0,
      "outputs": []
    },
    {
      "cell_type": "code",
      "metadata": {
        "id": "1YO8m1gT5s74",
        "colab_type": "code",
        "outputId": "f7b674d0-134b-4c54-d0b2-6923230fe601",
        "colab": {
          "base_uri": "https://localhost:8080/",
          "height": 87
        }
      },
      "source": [
        "pip install pymorphy2"
      ],
      "execution_count": 14,
      "outputs": [
        {
          "output_type": "stream",
          "text": [
            "Requirement already satisfied: pymorphy2 in /usr/local/lib/python3.6/dist-packages (0.8)\n",
            "Requirement already satisfied: pymorphy2-dicts<3.0,>=2.4 in /usr/local/lib/python3.6/dist-packages (from pymorphy2) (2.4.393442.3710985)\n",
            "Requirement already satisfied: docopt>=0.6 in /usr/local/lib/python3.6/dist-packages (from pymorphy2) (0.6.2)\n",
            "Requirement already satisfied: dawg-python>=0.7 in /usr/local/lib/python3.6/dist-packages (from pymorphy2) (0.7.2)\n"
          ],
          "name": "stdout"
        }
      ]
    },
    {
      "cell_type": "code",
      "metadata": {
        "id": "BvP9_lKf5o5w",
        "colab_type": "code",
        "colab": {}
      },
      "source": [
        "import pymorphy2\n",
        "morph = pymorphy2.MorphAnalyzer()"
      ],
      "execution_count": 0,
      "outputs": []
    },
    {
      "cell_type": "code",
      "metadata": {
        "id": "dNmEkqad57t_",
        "colab_type": "code",
        "colab": {}
      },
      "source": [
        "texts = []\n",
        "for row in test_table['question2']:\n",
        "  texts.append(str(row))"
      ],
      "execution_count": 0,
      "outputs": []
    },
    {
      "cell_type": "code",
      "metadata": {
        "id": "ASGFl2mkwaFz",
        "colab_type": "code",
        "colab": {}
      },
      "source": [
        "import re\n",
        "corpus = []#массив массивов лемм слов всех текстов\n",
        "for t in texts:#for text\n",
        "    ws = []\n",
        "    if t != \"\":\n",
        "      words = t.split()\n",
        "      for w in words:\n",
        "        w = re.sub('[.,-;:?!@#$%^&()_+=—\\ufeff–\"…«»>wwwtvsubtitlesnet]', '', w).lower()#чистим слова\n",
        "        if w != \"\":\n",
        "          p = morph.parse(w)[0]\n",
        "          if p not in ws:\n",
        "            ws.append(p.normal_form)\n",
        "      corpus.append(ws)"
      ],
      "execution_count": 0,
      "outputs": []
    },
    {
      "cell_type": "code",
      "metadata": {
        "id": "SeJ3AUurb2PC",
        "colab_type": "code",
        "colab": {}
      },
      "source": [
        "queries = []\n",
        "for row in test_table['question1']:\n",
        "  queries.append(str(row))"
      ],
      "execution_count": 0,
      "outputs": []
    },
    {
      "cell_type": "code",
      "metadata": {
        "id": "SOaHAcnqcFyd",
        "colab_type": "code",
        "colab": {}
      },
      "source": [
        "import re\n",
        "query_corpus = []#массив массивов лемм слов всех текстов запросов\n",
        "for q in queries:#for text\n",
        "    ws = []\n",
        "    if q != \"\":\n",
        "      words = q.split()\n",
        "      for w in words:\n",
        "        w = re.sub('[.,-;:?!@#$%^&()_+=—\\ufeff–\"…«»>wwwtvsubtitlesnet]', '', w).lower()#чистим слова\n",
        "        if w != \"\":\n",
        "          p = morph.parse(w)[0]\n",
        "          if p not in ws:\n",
        "            ws.append(p.normal_form)\n",
        "      query_corpus.append(ws)"
      ],
      "execution_count": 0,
      "outputs": []
    },
    {
      "cell_type": "code",
      "metadata": {
        "colab_type": "code",
        "id": "kYWLQ3yzai_N",
        "colab": {}
      },
      "source": [
        "def tokenize(doc):\n",
        "  ws = []\n",
        "  words = doc.split()\n",
        "  for w in words:\n",
        "    w = re.sub('[.,-;:?!@#$%^&()_+=—\\ufeff–\"…«»>wwwtvsubtitlesnet]', '', w).lower()\n",
        "    if w != \"\":\n",
        "      p = morph.parse(w)[0]\n",
        "      ws.append(p.normal_form)\n",
        "  return ws"
      ],
      "execution_count": 0,
      "outputs": []
    },
    {
      "cell_type": "markdown",
      "metadata": {
        "id": "yloowq4WOb6L",
        "colab_type": "text"
      },
      "source": [
        "способ первый с матрицей"
      ]
    },
    {
      "cell_type": "code",
      "metadata": {
        "id": "dxYVyVXMZnvX",
        "colab_type": "code",
        "colab": {
          "base_uri": "https://localhost:8080/",
          "height": 70
        },
        "outputId": "74ed945e-810f-4fbd-dadf-5d8a85390522"
      },
      "source": [
        "import nltk\n",
        "import re\n",
        "from nltk.corpus import stopwords\n",
        "nltk.download('stopwords')"
      ],
      "execution_count": 42,
      "outputs": [
        {
          "output_type": "stream",
          "text": [
            "[nltk_data] Downloading package stopwords to /root/nltk_data...\n",
            "[nltk_data]   Unzipping corpora/stopwords.zip.\n"
          ],
          "name": "stdout"
        },
        {
          "output_type": "execute_result",
          "data": {
            "text/plain": [
              "True"
            ]
          },
          "metadata": {
            "tags": []
          },
          "execution_count": 42
        }
      ]
    },
    {
      "cell_type": "code",
      "metadata": {
        "id": "r9Wg-O33ZljT",
        "colab_type": "code",
        "colab": {}
      },
      "source": [
        "stopwords = set(nltk.corpus.stopwords.words('russian')) #converting stopwords to a set for faster processing in the future.\n",
        "stemmer = nltk.stem.PorterStemmer() \n",
        "\n",
        "#Function to extract and tokenize terms from a document\n",
        "def extract_and_tokenize_terms(doc):\n",
        "    terms = []\n",
        "    for token in tokenize(doc):\n",
        "        if token not in stopwords: # 'in' and 'not in' operations are faster over sets than lists\n",
        "            if not re.search(r'\\d',token) and not re.search(r'[^A-Za-z-]',token): #Removing numbers and punctuations \n",
        "                #(excluding hyphenated words)\n",
        "                terms.append(stemmer.stem(token.lower()))\n",
        "    return terms"
      ],
      "execution_count": 0,
      "outputs": []
    },
    {
      "cell_type": "code",
      "metadata": {
        "id": "SfSTirzRUwsN",
        "colab_type": "code",
        "colab": {}
      },
      "source": [
        "documents = {}"
      ],
      "execution_count": 0,
      "outputs": []
    },
    {
      "cell_type": "code",
      "metadata": {
        "id": "17jFdfcqUc8l",
        "colab_type": "code",
        "colab": {}
      },
      "source": [
        "for i in range(len(corpus)):\n",
        "  documents[str(i)] = corpus[i]"
      ],
      "execution_count": 0,
      "outputs": []
    },
    {
      "cell_type": "code",
      "metadata": {
        "id": "pctgNO-RPp25",
        "colab_type": "code",
        "colab": {
          "base_uri": "https://localhost:8080/",
          "height": 176
        },
        "outputId": "90a594ce-e5dd-402d-ac7f-3ead9afec199"
      },
      "source": [
        "documents['0']"
      ],
      "execution_count": 46,
      "outputs": [
        {
          "output_type": "execute_result",
          "data": {
            "text/plain": [
              "['что',\n",
              " 'произойти',\n",
              " 'если',\n",
              " 'правительство',\n",
              " 'индия',\n",
              " 'украсть',\n",
              " 'кохинор',\n",
              " 'кохинооралмаз',\n",
              " 'назад']"
            ]
          },
          "metadata": {
            "tags": []
          },
          "execution_count": 46
        }
      ]
    },
    {
      "cell_type": "code",
      "metadata": {
        "id": "rxLirRxOXpRu",
        "colab_type": "code",
        "colab": {}
      },
      "source": [
        "#Building an inverted index for the documents\n",
        "\n",
        "from collections import defaultdict\n",
        "    \n",
        "inverted_index = defaultdict(set)\n",
        "\n",
        "for docid, terms in documents.items():\n",
        "    for term in terms:\n",
        "        inverted_index[term].add(docid)   "
      ],
      "execution_count": 0,
      "outputs": []
    },
    {
      "cell_type": "code",
      "metadata": {
        "id": "NSWDitHOQhgT",
        "colab_type": "code",
        "colab": {}
      },
      "source": [
        "#Building a TF-IDF representation using BM25 \n",
        "\n",
        "NO_DOCS = len(documents) #Number of documents\n",
        "\n",
        "AVG_LEN_DOC = sum([len(doc) for doc in documents.values()])/len(documents) #Average length of documents\n",
        "\n",
        "#The function below takes the documentid, and the term, to calculate scores for the tf and idf\n",
        "#components, and multiplies them together.\n",
        "def tf_idf_score(k1,b,term,docid):  \n",
        "    \n",
        "    ft = len(inverted_index[term]) \n",
        "    term = stemmer.stem(term.lower())\n",
        "    fdt =  documents[docid].count(term)\n",
        "    \n",
        "    idf_comp = math.log((NO_DOCS - ft + 0.5)/(ft+0.5))\n",
        "    \n",
        "    tf_comp = ((k1 + 1)*fdt)/(k1*((1-b) + b*(len(documents[docid])/AVG_LEN_DOC))+fdt)\n",
        "    \n",
        "    return idf_comp * tf_comp\n",
        "\n",
        "#Function to create tf_idf matrix without the query component\n",
        "def create_tf_idf(k1,b):\n",
        "    tf_idf = defaultdict(dict)\n",
        "    for term in set(inverted_index.keys()):\n",
        "        for docid in inverted_index[term]:\n",
        "            tf_idf[term][docid] = tf_idf_score(k1,b,term,docid)\n",
        "    return tf_idf"
      ],
      "execution_count": 0,
      "outputs": []
    },
    {
      "cell_type": "code",
      "metadata": {
        "id": "6u5nqk8FQl12",
        "colab_type": "code",
        "colab": {}
      },
      "source": [
        "#Creating tf_idf matrix with said parameter values: k1 and b for all documents.\n",
        "import math\n",
        "from math import log\n",
        "tf_idf = create_tf_idf(2,0.75)"
      ],
      "execution_count": 0,
      "outputs": []
    },
    {
      "cell_type": "code",
      "metadata": {
        "id": "S3l3rnYDQ111",
        "colab_type": "code",
        "colab": {}
      },
      "source": [
        "#Function to retrieve query component\n",
        "def get_qtf_comp(k3,term,fqt):\n",
        "    return ((k3+1)*fqt[term])/(k3 + fqt[term])\n",
        "\n",
        "\n",
        "#Function to retrieve documents || Returns a set of documents and their relevance scores. \n",
        "def retr_docs(query,result_count):\n",
        "    q_terms = [stemmer.stem(term.lower()) for term in query.split() if term not in stopwords] #Removing stopwords from queries\n",
        "    fqt = {}\n",
        "    for term in q_terms:\n",
        "        fqt[term] = fqt.get(term,0) + 1\n",
        "    \n",
        "    scores = {}\n",
        "    \n",
        "    for word in fqt.keys():\n",
        "        #print word + ': '+ str(inverted_index[word])\n",
        "        for document in inverted_index[word]:\n",
        "            scores[document] = scores.get(document,0) + (tf_idf[word][document]*get_qtf_comp(0,word,fqt)) #k3 chosen as 0 (default)\n",
        "    \n",
        "    return sorted(scores.items(),key = lambda x : x[1] , reverse=True)[:result_count] "
      ],
      "execution_count": 0,
      "outputs": []
    },
    {
      "cell_type": "code",
      "metadata": {
        "id": "K4Jo2sdKQ9LV",
        "colab_type": "code",
        "colab": {
          "base_uri": "https://localhost:8080/",
          "height": 105
        },
        "outputId": "6cd0d200-cdce-447a-f6e3-6f2c3911d50e"
      },
      "source": [
        "retr_docs(\"история кохинор\",5)"
      ],
      "execution_count": 53,
      "outputs": [
        {
          "output_type": "execute_result",
          "data": {
            "text/plain": [
              "[('0', 8.89463830521871),\n",
              " ('8236', 7.768555349733469),\n",
              " ('3955', 7.179381230455969),\n",
              " ('7273', 7.179381230455969),\n",
              " ('1165', 6.673274203530167)]"
            ]
          },
          "metadata": {
            "tags": []
          },
          "execution_count": 53
        }
      ]
    },
    {
      "cell_type": "markdown",
      "metadata": {
        "id": "nLg64HXabOII",
        "colab_type": "text"
      },
      "source": [
        "Еще две функции для расчета с матрицей и без"
      ]
    },
    {
      "cell_type": "code",
      "metadata": {
        "id": "Ou0jc85QwGJB",
        "colab_type": "code",
        "colab": {}
      },
      "source": [
        "from sklearn.feature_extraction.text import CountVectorizer\n",
        "\n",
        "vectorizer = CountVectorizer()"
      ],
      "execution_count": 0,
      "outputs": []
    },
    {
      "cell_type": "code",
      "metadata": {
        "id": "rgLcrrgGwKQE",
        "colab_type": "code",
        "colab": {}
      },
      "source": [
        "arrstr = []\n",
        "for text in corpus:  \n",
        "  s = ' '.join(text)\n",
        "  arrstr.append(s)"
      ],
      "execution_count": 0,
      "outputs": []
    },
    {
      "cell_type": "code",
      "metadata": {
        "id": "92cNvpsPwOZC",
        "colab_type": "code",
        "colab": {}
      },
      "source": [
        "X = vectorizer.fit_transform(arrstr)\n",
        "matrix = X.toarray()"
      ],
      "execution_count": 0,
      "outputs": []
    },
    {
      "cell_type": "code",
      "metadata": {
        "id": "NePdmRmNUTdH",
        "colab_type": "code",
        "colab": {}
      },
      "source": [
        "words = vectorizer.get_feature_names()"
      ],
      "execution_count": 0,
      "outputs": []
    },
    {
      "cell_type": "code",
      "metadata": {
        "id": "wBMU1rTg55Kc",
        "colab_type": "code",
        "colab": {}
      },
      "source": [
        "tf_matrix = matrix / np.array(doc_lens).reshape((-1, 1)) #матрица с обычными значениями tf"
      ],
      "execution_count": 0,
      "outputs": []
    },
    {
      "cell_type": "code",
      "metadata": {
        "id": "LZJpHittFOVU",
        "colab_type": "code",
        "colab": {}
      },
      "source": [
        "def tf_matrix_func(tf_matrix, b): \n",
        "    k = 2\n",
        "    pairs =  np.ndenumerate(tf_matrix)\n",
        "    for i, value in pairs:\n",
        "        doc_id = i[0]\n",
        "        l = doc_lens[doc_id]\n",
        "        tf_matrix[i] = (value * (k + 1.0)) / (value + k * (1.0 - b + b * (l/len_mean)))\n",
        "    return tf_matrix"
      ],
      "execution_count": 0,
      "outputs": []
    },
    {
      "cell_type": "code",
      "metadata": {
        "id": "5U7khr_lIs25",
        "colab_type": "code",
        "colab": {}
      },
      "source": [
        "from math import log\n",
        "num_doc_qi = np.count_nonzero(matrix, axis=0) #number of docs with qi\n",
        "\n",
        "def idf_score(word):\n",
        "    word_id = words.index(word)\n",
        "    num = num_doc_qi[word_id]\n",
        "    score = log((test_N - num + 0.5) / (num + 0.5))\n",
        "    return score"
      ],
      "execution_count": 0,
      "outputs": []
    },
    {
      "cell_type": "code",
      "metadata": {
        "id": "uh9kfJ2JJwy1",
        "colab_type": "code",
        "outputId": "6156d20f-adb7-4bf7-8080-d15676623923",
        "colab": {
          "base_uri": "https://localhost:8080/",
          "height": 34
        }
      },
      "source": [
        "idf_score('кохинор')"
      ],
      "execution_count": 61,
      "outputs": [
        {
          "output_type": "execute_result",
          "data": {
            "text/plain": [
              "8.804825262617976"
            ]
          },
          "metadata": {
            "tags": []
          },
          "execution_count": 61
        }
      ]
    },
    {
      "cell_type": "code",
      "metadata": {
        "id": "wiRcLvxdMwwB",
        "colab_type": "code",
        "colab": {}
      },
      "source": [
        "all_idfs = []\n",
        "for word in words:\n",
        "  score = idf_score(word)\n",
        "  all_idfs.append(score)"
      ],
      "execution_count": 0,
      "outputs": []
    },
    {
      "cell_type": "code",
      "metadata": {
        "id": "VeqAAN7yLP83",
        "colab_type": "code",
        "colab": {}
      },
      "source": [
        "def tokenize(query):\n",
        "  ws = []\n",
        "  query_words = query.split()\n",
        "  for w in query_words:\n",
        "    w = re.sub('[.,-;:?!@#$%^&()_+=—\\ufeff–\"…«»>wwwtvsubtitlesnet]', '', w).lower()\n",
        "    if w != \"\":\n",
        "      p = morph.parse(w)[0]\n",
        "      ws.append(p.normal_form)\n",
        "  return ws"
      ],
      "execution_count": 0,
      "outputs": []
    },
    {
      "cell_type": "code",
      "metadata": {
        "id": "-GOPbvYpjbkD",
        "colab_type": "code",
        "colab": {}
      },
      "source": [
        "b = 0.75"
      ],
      "execution_count": 0,
      "outputs": []
    },
    {
      "cell_type": "code",
      "metadata": {
        "id": "jcOFZT5LubXV",
        "colab_type": "code",
        "colab": {}
      },
      "source": [
        "tf_matrix_upd_1 = tf_matrix_func(tf_matrix, b) #матрица со значениями по новой формуле"
      ],
      "execution_count": 0,
      "outputs": []
    },
    {
      "cell_type": "code",
      "metadata": {
        "id": "THErMJyNvvze",
        "colab_type": "code",
        "colab": {}
      },
      "source": [
        "for i in range(len(tf_matrix_upd_1)):\n",
        "  for j in range(len(tf_matrix_upd_1[i])):\n",
        "    tf_matrix_upd_1[i][j] = tf_matrix_upd_1[i][j] * all_idfs[j] #матрица со значениями bm25 для корпуса"
      ],
      "execution_count": 0,
      "outputs": []
    },
    {
      "cell_type": "code",
      "metadata": {
        "id": "lmuWMt4ShJJz",
        "colab_type": "code",
        "colab": {}
      },
      "source": [
        "def bm25_vect_ver(query, b):\n",
        "  query_tokenized = tokenize(query)\n",
        "  new_query = [' '.join(query_tokenized)]\n",
        "  query_vector = np.array(vectorizer.transform(new_query).todense())[0]\n",
        "  query_idfs = np.array(all_idfs)*query_vector\n",
        "  tf_matrix_new = tf_matrix_func(tf_matrix, b)\n",
        "  score_bm25 = np.dot(tf_matrix_new,query_idfs)\n",
        "  \n",
        "  return score"
      ],
      "execution_count": 0,
      "outputs": []
    },
    {
      "cell_type": "code",
      "metadata": {
        "id": "dQN8-2HhjuF4",
        "colab_type": "code",
        "colab": {}
      },
      "source": [
        "def bm25_pair_ver(query, b):\n",
        "  k = 2\n",
        "  query_tokenized = tokenize(query)\n",
        "  results = []\n",
        "  for i in range(test_N):\n",
        "    bm25_score = 0\n",
        "    for j in range(len(query_tokenized)):\n",
        "      word = query_tokenized[j]\n",
        "      l = doc_lens[i]\n",
        "      if word in words:\n",
        "        word_id = words.index(word)\n",
        "        tf_val = tf_matrix[(i, word_id)]\n",
        "        tf_new = (tf_val * (k + 1.0))/(tf_val + k * (1.0 - b + b * (l/len_mean)))\n",
        "        bm25_score += all_idfs[word_id] * tf_new\n",
        "      else:\n",
        "        bm25_score += 0\n",
        "    results.append(bm25_score)\n",
        "  return results"
      ],
      "execution_count": 0,
      "outputs": []
    },
    {
      "cell_type": "markdown",
      "metadata": {
        "id": "6EEs-X_pJ8Rm",
        "colab_type": "text"
      },
      "source": [
        "Сравнение времени работы последних двух функций"
      ]
    },
    {
      "cell_type": "code",
      "metadata": {
        "id": "Cwp39iD2oPiT",
        "colab_type": "code",
        "outputId": "9d58219d-bc38-495e-cf56-01650277647e",
        "colab": {
          "base_uri": "https://localhost:8080/",
          "height": 52
        }
      },
      "source": [
        "query_0 = 'история кохинор продолжается'\n",
        "from time import time\n",
        "start1 = time()\n",
        "result_1 = bm25_vect_ver(query_0, b)\n",
        "time1 = str(time() - start1)\n",
        "print('Time of the first function: ' + time1)\n",
        "\n",
        "start2 = time()\n",
        "result_2 = bm25_pair_ver(query_0, b)\n",
        "time2 = str(time() - start2)\n",
        "print('Time of the second function: ' + time2)\n"
      ],
      "execution_count": 69,
      "outputs": [
        {
          "output_type": "stream",
          "text": [
            "Time of the first function: 177.41529178619385\n",
            "Time of the second function: 3.844017267227173\n"
          ],
          "name": "stdout"
        }
      ]
    },
    {
      "cell_type": "markdown",
      "metadata": {
        "id": "YJjKbJ9eJxVZ",
        "colab_type": "text"
      },
      "source": [
        "Пример топ 10 со значениями bm25"
      ]
    },
    {
      "cell_type": "code",
      "metadata": {
        "id": "YlSe1AaPpiCN",
        "colab_type": "code",
        "colab": {}
      },
      "source": [
        "query_2 = 'рождественские каникулы'"
      ],
      "execution_count": 0,
      "outputs": []
    },
    {
      "cell_type": "code",
      "metadata": {
        "id": "zSuJLYLqpp0V",
        "colab_type": "code",
        "colab": {}
      },
      "source": [
        "bm25_scores = bm25_pair_ver(query_2, b)"
      ],
      "execution_count": 0,
      "outputs": []
    },
    {
      "cell_type": "code",
      "metadata": {
        "id": "EYZkrzryqgGw",
        "colab_type": "code",
        "colab": {}
      },
      "source": [
        "new_mas = []\n",
        "new_list = sorted(enumerate(bm25_scores), key=lambda x:x[1], reverse=True)\n",
        "for i in new_list:\n",
        "  new_mas.append(i[0])"
      ],
      "execution_count": 0,
      "outputs": []
    },
    {
      "cell_type": "code",
      "metadata": {
        "id": "Fq5qg7byt2rz",
        "colab_type": "code",
        "outputId": "d8da9400-cf9f-43e0-fda4-93a649aaa458",
        "colab": {
          "base_uri": "https://localhost:8080/",
          "height": 727
        }
      },
      "source": [
        "top_10 = new_mas[:10]\n",
        "for rank, idx in enumerate(top_10):\n",
        "  print('rank: ', rank)\n",
        "  print('text: ', np.array(texts)[idx])\n",
        "  print('bm25_score: ', bm25_scores[idx], '\\n')"
      ],
      "execution_count": 73,
      "outputs": [
        {
          "output_type": "stream",
          "text": [
            "rank:  0\n",
            "text:  каков ваш рождественский список\n",
            "bm25_score:  16.869321934978363 \n",
            "\n",
            "rank:  1\n",
            "text:  я не хочу покупать маме рождественский подарок, что я должен делать\n",
            "bm25_score:  7.110062994842695 \n",
            "\n",
            "rank:  2\n",
            "text:  что произойдет, если правительство Индии украдет кохинор кох-и-ноор-алмаз назад\n",
            "bm25_score:  0.0 \n",
            "\n",
            "rank:  3\n",
            "text:  как повысить скорость интернета путем взлома через dns\n",
            "bm25_score:  0.0 \n",
            "\n",
            "rank:  4\n",
            "text:  найти остаток, когда математика 23 ^ 24 математика разделена на 24 23\n",
            "bm25_score:  0.0 \n",
            "\n",
            "rank:  5\n",
            "text:  какая рыба выживет в соленой воде\n",
            "bm25_score:  0.0 \n",
            "\n",
            "rank:  6\n",
            "text:  Я тройная луна-козерог и восхождение в козероге, что это говорит обо мне\n",
            "bm25_score:  0.0 \n",
            "\n",
            "rank:  7\n",
            "text:  что делает детей активными и далеки от телефонных и видеоигр\n",
            "bm25_score:  0.0 \n",
            "\n",
            "rank:  8\n",
            "text:  что я должен делать, чтобы быть великим геологом?\n",
            "bm25_score:  0.0 \n",
            "\n",
            "rank:  9\n",
            "text:  когда вы используете вместо\n",
            "bm25_score:  0.0 \n",
            "\n"
          ],
          "name": "stdout"
        }
      ]
    },
    {
      "cell_type": "markdown",
      "metadata": {
        "id": "dh8DfR-xJTkZ",
        "colab_type": "text"
      },
      "source": [
        "Приверим результаты с помощью питоновкого варианта подсчета bm_25"
      ]
    },
    {
      "cell_type": "code",
      "metadata": {
        "id": "THB4Me_707ZS",
        "colab_type": "code",
        "outputId": "9b7e1eb4-f4c2-47ee-f9fb-f938ada78564",
        "colab": {
          "base_uri": "https://localhost:8080/",
          "height": 194
        }
      },
      "source": [
        "pip install rank_bm25"
      ],
      "execution_count": 74,
      "outputs": [
        {
          "output_type": "stream",
          "text": [
            "Collecting rank_bm25\n",
            "  Downloading https://files.pythonhosted.org/packages/d2/e4/38d03d6d5e2deae8d2838b81d6ba2742475ced42045f5c46aeb00c5fb79c/rank_bm25-0.2.tar.gz\n",
            "Requirement already satisfied: numpy in /usr/local/lib/python3.6/dist-packages (from rank_bm25) (1.16.5)\n",
            "Building wheels for collected packages: rank-bm25\n",
            "  Building wheel for rank-bm25 (setup.py) ... \u001b[?25l\u001b[?25hdone\n",
            "  Created wheel for rank-bm25: filename=rank_bm25-0.2-cp36-none-any.whl size=4162 sha256=076b2c2cb7c3c5b90c25e9d6fcfb96b52f9e55cf167f2f1aa88899b404476ad6\n",
            "  Stored in directory: /root/.cache/pip/wheels/6f/0c/1f/78945dd6a5478bbcdb50d73ac96ae5af2ffcdfcd374fd9b1bf\n",
            "Successfully built rank-bm25\n",
            "Installing collected packages: rank-bm25\n",
            "Successfully installed rank-bm25-0.2\n"
          ],
          "name": "stdout"
        }
      ]
    },
    {
      "cell_type": "code",
      "metadata": {
        "id": "Xhm3QmNgy3rr",
        "colab_type": "code",
        "colab": {}
      },
      "source": [
        "from rank_bm25 import BM25Okapi"
      ],
      "execution_count": 0,
      "outputs": []
    },
    {
      "cell_type": "code",
      "metadata": {
        "id": "MzXXmxbFy688",
        "colab_type": "code",
        "colab": {}
      },
      "source": [
        "bm25 = BM25Okapi(corpus)"
      ],
      "execution_count": 0,
      "outputs": []
    },
    {
      "cell_type": "code",
      "metadata": {
        "id": "3_PYDtiz1tIt",
        "colab_type": "code",
        "colab": {}
      },
      "source": [
        "query_tokenized = tokenize(query_2)"
      ],
      "execution_count": 0,
      "outputs": []
    },
    {
      "cell_type": "code",
      "metadata": {
        "id": "PfSMkyZI1zYP",
        "colab_type": "code",
        "outputId": "968f063a-d93c-4014-d682-8f49cb42c03d",
        "colab": {
          "base_uri": "https://localhost:8080/",
          "height": 34
        }
      },
      "source": [
        "query_tokenized"
      ],
      "execution_count": 78,
      "outputs": [
        {
          "output_type": "execute_result",
          "data": {
            "text/plain": [
              "['рождественский', 'каникулы']"
            ]
          },
          "metadata": {
            "tags": []
          },
          "execution_count": 78
        }
      ]
    },
    {
      "cell_type": "code",
      "metadata": {
        "id": "vij_2ExI12y7",
        "colab_type": "code",
        "colab": {}
      },
      "source": [
        "doc_scores = bm25.get_scores(query_tokenized)"
      ],
      "execution_count": 0,
      "outputs": []
    },
    {
      "cell_type": "code",
      "metadata": {
        "id": "86K-c3k22F2t",
        "colab_type": "code",
        "outputId": "3dcaf18e-b9ca-4ce2-c792-7d6fea7edbd1",
        "colab": {
          "base_uri": "https://localhost:8080/",
          "height": 372
        }
      },
      "source": [
        "r = 0\n",
        "for i in bm25.get_top_n(query_tokenized, corpus, n=10):\n",
        "  print(\"rank\", r)\n",
        "  r += 1\n",
        "  print(i)"
      ],
      "execution_count": 80,
      "outputs": [
        {
          "output_type": "stream",
          "text": [
            "rank 0\n",
            "['каков', 'ваш', 'рождественский', 'список']\n",
            "rank 1\n",
            "['я', 'не', 'хотеть', 'покупать', 'мама', 'рождественский', 'подарок', 'что', 'я', 'должный', 'делать']\n",
            "rank 2\n",
            "['безопасно', 'ли', 'для', 'женщина', 'путешествовать', 'в', 'одиночка', 'в', 'япония']\n",
            "rank 3\n",
            "['какой', 'странный', 'сувенир', 'для', 'покемон', 'в', 'луч', 'солнце', 'и', 'луна']\n",
            "rank 4\n",
            "['быть', 'работать', 'карта', 'r', 'на', 'do', 'd', 'x']\n",
            "rank 5\n",
            "['сколько', 'деньга', 'быть', 'составлять', 'рупия', 'за', 'год', 'на', 'годовой']\n",
            "rank 6\n",
            "['как', 'увеличить', 'рост']\n",
            "rank 7\n",
            "['античный', 'бизнес', 'юридический', 'в', 'индия']\n",
            "rank 8\n",
            "['который', 'являться', 'самый', 'известный', 'поэт']\n",
            "rank 9\n",
            "['что', 'вызывать', 'рост', 'продажа', 'pho', 'за', 'апрель', 'год']\n"
          ],
          "name": "stdout"
        }
      ]
    },
    {
      "cell_type": "markdown",
      "metadata": {
        "id": "cstRnhoQKkpi",
        "colab_type": "text"
      },
      "source": [
        "Попробуем посчитать точность поиска"
      ]
    },
    {
      "cell_type": "code",
      "metadata": {
        "id": "Eep7_3YUEAq_",
        "colab_type": "code",
        "colab": {}
      },
      "source": [
        "query_test_acc = queries[0]"
      ],
      "execution_count": 0,
      "outputs": []
    },
    {
      "cell_type": "code",
      "metadata": {
        "id": "CvEKu7m8e3rP",
        "colab_type": "code",
        "colab": {
          "base_uri": "https://localhost:8080/",
          "height": 34
        },
        "outputId": "91dd20d8-cf09-4ee5-bf0a-cef91e71d3e4"
      },
      "source": [
        "query_test_acc"
      ],
      "execution_count": 89,
      "outputs": [
        {
          "output_type": "execute_result",
          "data": {
            "text/plain": [
              "'Какова история кохинор кох-и-ноор-бриллиант'"
            ]
          },
          "metadata": {
            "tags": []
          },
          "execution_count": 89
        }
      ]
    },
    {
      "cell_type": "code",
      "metadata": {
        "id": "IOovUrlSEUIB",
        "colab_type": "code",
        "colab": {}
      },
      "source": [
        "bm25_scores_1 = bm25_pair_ver(query_test_acc, 0.75)"
      ],
      "execution_count": 0,
      "outputs": []
    },
    {
      "cell_type": "code",
      "metadata": {
        "id": "m1vHPzVZFHAS",
        "colab_type": "code",
        "colab": {}
      },
      "source": [
        "def test(query, b):\n",
        "  bm25_scores = bm25_pair_ver(query, b)\n",
        "  mas = []\n",
        "  new_list = sorted(enumerate(bm25_scores), key=lambda x:x[1], reverse=True)\n",
        "  for i in new_list:\n",
        "    mas.append(i[0])\n",
        "  top_5 = mas[:5]\n",
        "  for rank, idx in enumerate(top_5):\n",
        "    print('rank: ', rank)\n",
        "    print('text: ', np.array(test_table)[idx])\n",
        "    print('bm25_score: ', bm25_scores[idx], '\\n')"
      ],
      "execution_count": 0,
      "outputs": []
    },
    {
      "cell_type": "code",
      "metadata": {
        "id": "UGg3bZwtG9hI",
        "colab_type": "code",
        "colab": {
          "base_uri": "https://localhost:8080/",
          "height": 461
        },
        "outputId": "f0a463bb-d846-47fe-b71b-c339fe08b363"
      },
      "source": [
        "top_5_1 = test(query_test_acc, 0.75)"
      ],
      "execution_count": 86,
      "outputs": [
        {
          "output_type": "stream",
          "text": [
            "rank:  0\n",
            "text:  [8236 'прослеживает следующий napster' 'какова история напстера' 0]\n",
            "bm25_score:  15.174031330553452 \n",
            "\n",
            "rank:  1\n",
            "text:  [7273 'каковы ваши истории неудач' 'какова ваша история неудачи' 1]\n",
            "bm25_score:  13.714579692014158 \n",
            "\n",
            "rank:  2\n",
            "text:  [0 'Какова история кохинор кох-и-ноор-бриллиант'\n",
            " 'что произойдет, если правительство Индии украдет кохинор кох-и-ноор-алмаз назад'\n",
            " 0]\n",
            "bm25_score:  10.517678980440579 \n",
            "\n",
            "rank:  3\n",
            "text:  [4447 'Каков ваш обзор сексуальных историй'\n",
            " 'Каков ваш обзор истории Чу Юань' 0]\n",
            "bm25_score:  10.499097402186198 \n",
            "\n",
            "rank:  4\n",
            "text:  [3955\n",
            " 'делает работу s jio 4g сетевой работой на островах andaman и nicobar, особенно в своем столичном порту blair'\n",
            " 'автомобиль история первый машина' 0]\n",
            "bm25_score:  10.080596197228791 \n",
            "\n"
          ],
          "name": "stdout"
        }
      ]
    },
    {
      "cell_type": "code",
      "metadata": {
        "id": "RW72B3EDHYR1",
        "colab_type": "code",
        "colab": {
          "base_uri": "https://localhost:8080/",
          "height": 461
        },
        "outputId": "0a1102b5-fb57-48bc-9d7f-302010f35699"
      },
      "source": [
        "top_5_2 = test(query_test_acc, 0)"
      ],
      "execution_count": 87,
      "outputs": [
        {
          "output_type": "stream",
          "text": [
            "rank:  0\n",
            "text:  [8236 'прослеживает следующий napster' 'какова история напстера' 0]\n",
            "bm25_score:  11.516692410969739 \n",
            "\n",
            "rank:  1\n",
            "text:  [7273 'каковы ваши истории неудач' 'какова ваша история неудачи' 1]\n",
            "bm25_score:  10.713840670287311 \n",
            "\n",
            "rank:  2\n",
            "text:  [0 'Какова история кохинор кох-и-ноор-бриллиант'\n",
            " 'что произойдет, если правительство Индии украдет кохинор кох-и-ноор-алмаз назад'\n",
            " 0]\n",
            "bm25_score:  10.30207068745296 \n",
            "\n",
            "rank:  3\n",
            "text:  [4447 'Каков ваш обзор сексуальных историй'\n",
            " 'Каков ваш обзор истории Чу Юань' 0]\n",
            "bm25_score:  8.812674806643008 \n",
            "\n",
            "rank:  4\n",
            "text:  [3955\n",
            " 'делает работу s jio 4g сетевой работой на островах andaman и nicobar, особенно в своем столичном порту blair'\n",
            " 'автомобиль история первый машина' 0]\n",
            "bm25_score:  7.974068334408734 \n",
            "\n"
          ],
          "name": "stdout"
        }
      ]
    },
    {
      "cell_type": "code",
      "metadata": {
        "id": "tKCVFPZ1HeFT",
        "colab_type": "code",
        "colab": {
          "base_uri": "https://localhost:8080/",
          "height": 461
        },
        "outputId": "95db80ac-3f79-437d-f1f2-3a8f76ed5e1f"
      },
      "source": [
        "top_5_2 = test(query_test_acc, 1)"
      ],
      "execution_count": 88,
      "outputs": [
        {
          "output_type": "stream",
          "text": [
            "rank:  0\n",
            "text:  [8236 'прослеживает следующий napster' 'какова история напстера' 0]\n",
            "bm25_score:  16.974967813052565 \n",
            "\n",
            "rank:  1\n",
            "text:  [7273 'каковы ваши истории неудач' 'какова ваша история неудачи' 1]\n",
            "bm25_score:  15.1315828401832 \n",
            "\n",
            "rank:  2\n",
            "text:  [4447 'Каков ваш обзор сексуальных историй'\n",
            " 'Каков ваш обзор истории Чу Юань' 0]\n",
            "bm25_score:  11.216402507438065 \n",
            "\n",
            "rank:  3\n",
            "text:  [3955\n",
            " 'делает работу s jio 4g сетевой работой на островах andaman и nicobar, особенно в своем столичном порту blair'\n",
            " 'автомобиль история первый машина' 0]\n",
            "bm25_score:  11.053981374623522 \n",
            "\n",
            "rank:  4\n",
            "text:  [0 'Какова история кохинор кох-и-ноор-бриллиант'\n",
            " 'что произойдет, если правительство Индии украдет кохинор кох-и-ноор-алмаз назад'\n",
            " 0]\n",
            "bm25_score:  10.591568006156901 \n",
            "\n"
          ],
          "name": "stdout"
        }
      ]
    },
    {
      "cell_type": "markdown",
      "metadata": {
        "id": "fRzuvPLke7fs",
        "colab_type": "text"
      },
      "source": [
        "В каждом варианте был найден пример, с которым у запроса значение is_duplicate = 1"
      ]
    }
  ]
}