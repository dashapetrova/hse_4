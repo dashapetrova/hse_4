{
  "nbformat": 4,
  "nbformat_minor": 0,
  "metadata": {
    "kernelspec": {
      "display_name": "Python 3",
      "language": "python",
      "name": "python3"
    },
    "language_info": {
      "codemirror_mode": {
        "name": "ipython",
        "version": 3
      },
      "file_extension": ".py",
      "mimetype": "text/x-python",
      "name": "python",
      "nbconvert_exporter": "python",
      "pygments_lexer": "ipython3",
      "version": "3.6.8"
    },
    "colab": {
      "name": "hw2_bm25.ipynb",
      "provenance": [],
      "collapsed_sections": [],
      "machine_shape": "hm"
    }
  },
  "cells": [
    {
      "cell_type": "markdown",
      "metadata": {
        "id": "2NnsBI9xfWPu",
        "colab_type": "text"
      },
      "source": [
        "Домашнее задание №2. Тема \"BM25\""
      ]
    },
    {
      "cell_type": "code",
      "metadata": {
        "id": "KQPys51myYp6",
        "colab_type": "code",
        "outputId": "6e02f836-71ef-47c9-e998-5e43455e4fa8",
        "colab": {
          "base_uri": "https://localhost:8080/",
          "height": 34
        }
      },
      "source": [
        "from google.colab import drive\n",
        "drive.mount('/content/gdrive')"
      ],
      "execution_count": 1,
      "outputs": [
        {
          "output_type": "stream",
          "text": [
            "Drive already mounted at /content/gdrive; to attempt to forcibly remount, call drive.mount(\"/content/gdrive\", force_remount=True).\n"
          ],
          "name": "stdout"
        }
      ]
    },
    {
      "cell_type": "code",
      "metadata": {
        "id": "yWH3cQXWXDpu",
        "colab_type": "code",
        "colab": {}
      },
      "source": [
        "import os\n",
        "os.chdir('gdrive/My Drive/Colab Notebooks')"
      ],
      "execution_count": 0,
      "outputs": []
    },
    {
      "cell_type": "code",
      "metadata": {
        "id": "ggbGvpwexxdc",
        "colab_type": "code",
        "colab": {}
      },
      "source": [
        "import pandas as pd\n",
        "import numpy as np"
      ],
      "execution_count": 0,
      "outputs": []
    },
    {
      "cell_type": "code",
      "metadata": {
        "id": "pFa0ssVUx3Ru",
        "colab_type": "code",
        "colab": {}
      },
      "source": [
        "table = pd.read_csv('quora_question_pairs_rus.csv')"
      ],
      "execution_count": 0,
      "outputs": []
    },
    {
      "cell_type": "code",
      "metadata": {
        "id": "wd6tY8OXzDgO",
        "colab_type": "code",
        "outputId": "2371294f-e7e0-4c2c-e9c1-7f677ed77880",
        "colab": {
          "base_uri": "https://localhost:8080/",
          "height": 197
        }
      },
      "source": [
        "table.head()"
      ],
      "execution_count": 5,
      "outputs": [
        {
          "output_type": "execute_result",
          "data": {
            "text/html": [
              "<div>\n",
              "<style scoped>\n",
              "    .dataframe tbody tr th:only-of-type {\n",
              "        vertical-align: middle;\n",
              "    }\n",
              "\n",
              "    .dataframe tbody tr th {\n",
              "        vertical-align: top;\n",
              "    }\n",
              "\n",
              "    .dataframe thead th {\n",
              "        text-align: right;\n",
              "    }\n",
              "</style>\n",
              "<table border=\"1\" class=\"dataframe\">\n",
              "  <thead>\n",
              "    <tr style=\"text-align: right;\">\n",
              "      <th></th>\n",
              "      <th>Unnamed: 0</th>\n",
              "      <th>question1</th>\n",
              "      <th>question2</th>\n",
              "      <th>is_duplicate</th>\n",
              "    </tr>\n",
              "  </thead>\n",
              "  <tbody>\n",
              "    <tr>\n",
              "      <th>0</th>\n",
              "      <td>0</td>\n",
              "      <td>Какова история кохинор кох-и-ноор-бриллиант</td>\n",
              "      <td>что произойдет, если правительство Индии украд...</td>\n",
              "      <td>0</td>\n",
              "    </tr>\n",
              "    <tr>\n",
              "      <th>1</th>\n",
              "      <td>1</td>\n",
              "      <td>как я могу увеличить скорость моего интернет-с...</td>\n",
              "      <td>как повысить скорость интернета путем взлома ч...</td>\n",
              "      <td>0</td>\n",
              "    </tr>\n",
              "    <tr>\n",
              "      <th>2</th>\n",
              "      <td>2</td>\n",
              "      <td>почему я мысленно очень одинок, как я могу это...</td>\n",
              "      <td>найти остаток, когда математика 23 ^ 24 матема...</td>\n",
              "      <td>0</td>\n",
              "    </tr>\n",
              "    <tr>\n",
              "      <th>3</th>\n",
              "      <td>3</td>\n",
              "      <td>которые растворяют в воде быстро сахарную соль...</td>\n",
              "      <td>какая рыба выживет в соленой воде</td>\n",
              "      <td>0</td>\n",
              "    </tr>\n",
              "    <tr>\n",
              "      <th>4</th>\n",
              "      <td>4</td>\n",
              "      <td>астрология: я - луна-колпачок из козерога и кр...</td>\n",
              "      <td>Я тройная луна-козерог и восхождение в козерог...</td>\n",
              "      <td>1</td>\n",
              "    </tr>\n",
              "  </tbody>\n",
              "</table>\n",
              "</div>"
            ],
            "text/plain": [
              "   Unnamed: 0  ... is_duplicate\n",
              "0           0  ...            0\n",
              "1           1  ...            0\n",
              "2           2  ...            0\n",
              "3           3  ...            0\n",
              "4           4  ...            1\n",
              "\n",
              "[5 rows x 4 columns]"
            ]
          },
          "metadata": {
            "tags": []
          },
          "execution_count": 5
        }
      ]
    },
    {
      "cell_type": "code",
      "metadata": {
        "id": "XHKrIVKN0QAa",
        "colab_type": "code",
        "colab": {}
      },
      "source": [
        "N = len(table)"
      ],
      "execution_count": 0,
      "outputs": []
    },
    {
      "cell_type": "code",
      "metadata": {
        "id": "Dszxn_smtyt4",
        "colab_type": "code",
        "colab": {}
      },
      "source": [
        "test_N = 10000"
      ],
      "execution_count": 0,
      "outputs": []
    },
    {
      "cell_type": "code",
      "metadata": {
        "id": "ccBB2-v2t3Sh",
        "colab_type": "code",
        "colab": {}
      },
      "source": [
        "test_table = table.head(test_N)"
      ],
      "execution_count": 0,
      "outputs": []
    },
    {
      "cell_type": "code",
      "metadata": {
        "id": "W15OtjXh3tak",
        "colab_type": "code",
        "colab": {}
      },
      "source": [
        "doc_lens = []\n",
        "for row in test_table['question2']:\n",
        "  doc_lens.append(len(str(row).split()))"
      ],
      "execution_count": 0,
      "outputs": []
    },
    {
      "cell_type": "code",
      "metadata": {
        "id": "otoyMU6R4E6P",
        "colab_type": "code",
        "colab": {}
      },
      "source": [
        "len_mean = np.mean(doc_lens)"
      ],
      "execution_count": 0,
      "outputs": []
    },
    {
      "cell_type": "code",
      "metadata": {
        "id": "1YO8m1gT5s74",
        "colab_type": "code",
        "outputId": "5fad6606-aaf1-4c3e-f39e-12d0649609df",
        "colab": {
          "base_uri": "https://localhost:8080/",
          "height": 87
        }
      },
      "source": [
        "pip install pymorphy2"
      ],
      "execution_count": 11,
      "outputs": [
        {
          "output_type": "stream",
          "text": [
            "Requirement already satisfied: pymorphy2 in /usr/local/lib/python3.6/dist-packages (0.8)\n",
            "Requirement already satisfied: pymorphy2-dicts<3.0,>=2.4 in /usr/local/lib/python3.6/dist-packages (from pymorphy2) (2.4.393442.3710985)\n",
            "Requirement already satisfied: docopt>=0.6 in /usr/local/lib/python3.6/dist-packages (from pymorphy2) (0.6.2)\n",
            "Requirement already satisfied: dawg-python>=0.7 in /usr/local/lib/python3.6/dist-packages (from pymorphy2) (0.7.2)\n"
          ],
          "name": "stdout"
        }
      ]
    },
    {
      "cell_type": "code",
      "metadata": {
        "id": "BvP9_lKf5o5w",
        "colab_type": "code",
        "colab": {}
      },
      "source": [
        "import pymorphy2\n",
        "morph = pymorphy2.MorphAnalyzer()"
      ],
      "execution_count": 0,
      "outputs": []
    },
    {
      "cell_type": "code",
      "metadata": {
        "id": "dNmEkqad57t_",
        "colab_type": "code",
        "colab": {}
      },
      "source": [
        "texts = []\n",
        "for row in test_table['question2']:\n",
        "  texts.append(str(row))"
      ],
      "execution_count": 0,
      "outputs": []
    },
    {
      "cell_type": "code",
      "metadata": {
        "id": "ASGFl2mkwaFz",
        "colab_type": "code",
        "colab": {}
      },
      "source": [
        "import re\n",
        "corpus = []#массив массивов лемм слов всех текстов\n",
        "for t in texts:#for text\n",
        "    ws = []\n",
        "    if t != \"\":\n",
        "      words = t.split()\n",
        "      for w in words:\n",
        "        w = re.sub('[.,-;:?!@#$%^&()_+=—\\ufeff–\"…«»>wwwtvsubtitlesnet]', '', w).lower()#чистим слова\n",
        "        if w != \"\":\n",
        "          p = morph.parse(w)[0]\n",
        "          if p not in ws:\n",
        "            ws.append(p.normal_form)\n",
        "      corpus.append(ws)"
      ],
      "execution_count": 0,
      "outputs": []
    },
    {
      "cell_type": "code",
      "metadata": {
        "id": "SeJ3AUurb2PC",
        "colab_type": "code",
        "colab": {}
      },
      "source": [
        "queries = []\n",
        "for row in test_table['question1']:\n",
        "  queries.append(str(row))"
      ],
      "execution_count": 0,
      "outputs": []
    },
    {
      "cell_type": "code",
      "metadata": {
        "id": "SOaHAcnqcFyd",
        "colab_type": "code",
        "colab": {}
      },
      "source": [
        "import re\n",
        "query_corpus = []#массив массивов лемм слов всех текстов запросов\n",
        "for q in queries:#for text\n",
        "    ws = []\n",
        "    if q != \"\":\n",
        "      words = q.split()\n",
        "      for w in words:\n",
        "        w = re.sub('[.,-;:?!@#$%^&()_+=—\\ufeff–\"…«»>wwwtvsubtitlesnet]', '', w).lower()#чистим слова\n",
        "        if w != \"\":\n",
        "          p = morph.parse(w)[0]\n",
        "          if p not in ws:\n",
        "            ws.append(p.normal_form)\n",
        "      query_corpus.append(ws)"
      ],
      "execution_count": 0,
      "outputs": []
    },
    {
      "cell_type": "code",
      "metadata": {
        "id": "Ou0jc85QwGJB",
        "colab_type": "code",
        "colab": {}
      },
      "source": [
        "from sklearn.feature_extraction.text import CountVectorizer\n",
        "\n",
        "vectorizer = CountVectorizer()"
      ],
      "execution_count": 0,
      "outputs": []
    },
    {
      "cell_type": "code",
      "metadata": {
        "id": "rgLcrrgGwKQE",
        "colab_type": "code",
        "colab": {}
      },
      "source": [
        "arrstr = []\n",
        "for text in corpus:  \n",
        "  s = ' '.join(text)\n",
        "  arrstr.append(s)"
      ],
      "execution_count": 0,
      "outputs": []
    },
    {
      "cell_type": "code",
      "metadata": {
        "id": "92cNvpsPwOZC",
        "colab_type": "code",
        "colab": {}
      },
      "source": [
        "X = vectorizer.fit_transform(arrstr)\n",
        "matrix = X.toarray()"
      ],
      "execution_count": 0,
      "outputs": []
    },
    {
      "cell_type": "code",
      "metadata": {
        "id": "NePdmRmNUTdH",
        "colab_type": "code",
        "colab": {}
      },
      "source": [
        "words = vectorizer.get_feature_names()"
      ],
      "execution_count": 0,
      "outputs": []
    },
    {
      "cell_type": "code",
      "metadata": {
        "id": "wBMU1rTg55Kc",
        "colab_type": "code",
        "colab": {}
      },
      "source": [
        "tf_matrix = matrix / np.array(doc_lens).reshape((-1, 1)) #матрица с обычными значениями tf"
      ],
      "execution_count": 0,
      "outputs": []
    },
    {
      "cell_type": "code",
      "metadata": {
        "id": "LZJpHittFOVU",
        "colab_type": "code",
        "colab": {}
      },
      "source": [
        "def tf_matrix_func(tf_matrix, b): \n",
        "    k = 2\n",
        "    pairs =  np.ndenumerate(tf_matrix)\n",
        "    for i, value in pairs:\n",
        "        doc_id = i[0]\n",
        "        l = doc_lens[doc_id]\n",
        "        tf_matrix[i] = (value * (k + 1.0)) / (value + k * (1.0 - b + b * (l/len_mean)))\n",
        "    return tf_matrix"
      ],
      "execution_count": 0,
      "outputs": []
    },
    {
      "cell_type": "code",
      "metadata": {
        "id": "5U7khr_lIs25",
        "colab_type": "code",
        "colab": {}
      },
      "source": [
        "from math import log\n",
        "num_doc_qi = np.count_nonzero(matrix, axis=0) #number of docs with qi\n",
        "\n",
        "def idf_score(word):\n",
        "    word_id = words.index(word)\n",
        "    num = num_doc_qi[word_id]\n",
        "    score = log((test_N - num + 0.5) / (num + 0.5))\n",
        "    return score"
      ],
      "execution_count": 0,
      "outputs": []
    },
    {
      "cell_type": "code",
      "metadata": {
        "id": "uh9kfJ2JJwy1",
        "colab_type": "code",
        "outputId": "be363894-73b9-42aa-f197-2160820fcf35",
        "colab": {
          "base_uri": "https://localhost:8080/",
          "height": 34
        }
      },
      "source": [
        "idf_score('кохинор')"
      ],
      "execution_count": 24,
      "outputs": [
        {
          "output_type": "execute_result",
          "data": {
            "text/plain": [
              "8.804825262617976"
            ]
          },
          "metadata": {
            "tags": []
          },
          "execution_count": 24
        }
      ]
    },
    {
      "cell_type": "code",
      "metadata": {
        "id": "wiRcLvxdMwwB",
        "colab_type": "code",
        "colab": {}
      },
      "source": [
        "all_idfs = []\n",
        "for word in words:\n",
        "  score = idf_score(word)\n",
        "  all_idfs.append(score)"
      ],
      "execution_count": 0,
      "outputs": []
    },
    {
      "cell_type": "code",
      "metadata": {
        "id": "VeqAAN7yLP83",
        "colab_type": "code",
        "colab": {}
      },
      "source": [
        "def tokenize(query):\n",
        "  ws = []\n",
        "  query_words = query.split()\n",
        "  for w in query_words:\n",
        "    w = re.sub('[.,-;:?!@#$%^&()_+=—\\ufeff–\"…«»>wwwtvsubtitlesnet]', '', w).lower()\n",
        "    if w != \"\":\n",
        "      p = morph.parse(w)[0]\n",
        "      ws.append(p.normal_form)\n",
        "  return ws"
      ],
      "execution_count": 0,
      "outputs": []
    },
    {
      "cell_type": "code",
      "metadata": {
        "id": "-GOPbvYpjbkD",
        "colab_type": "code",
        "colab": {}
      },
      "source": [
        "b = 0.75"
      ],
      "execution_count": 0,
      "outputs": []
    },
    {
      "cell_type": "code",
      "metadata": {
        "id": "jcOFZT5LubXV",
        "colab_type": "code",
        "colab": {}
      },
      "source": [
        "tf_matrix_upd_1 = tf_matrix_func(tf_matrix, b) #матрица со значениями по новой формуле"
      ],
      "execution_count": 0,
      "outputs": []
    },
    {
      "cell_type": "code",
      "metadata": {
        "id": "THErMJyNvvze",
        "colab_type": "code",
        "colab": {}
      },
      "source": [
        "for i in range(len(tf_matrix_upd_1)):\n",
        "  for j in range(len(tf_matrix_upd_1[i])):\n",
        "    tf_matrix_upd_1[i][j] = tf_matrix_upd_1[i][j] * all_idfs[j] #матрица со значениями bm25 для корпуса"
      ],
      "execution_count": 0,
      "outputs": []
    },
    {
      "cell_type": "markdown",
      "metadata": {
        "id": "MRY_VrU83z8b",
        "colab_type": "text"
      },
      "source": [
        "Ниже функция расчета через перемножение матрицы и вектора с примером"
      ]
    },
    {
      "cell_type": "code",
      "metadata": {
        "id": "uBl2S3eKtH36",
        "colab_type": "code",
        "colab": {}
      },
      "source": [
        "def bm25_vect_ver(query):\n",
        "  \n",
        "  query_tok = tokenize(query)\n",
        "  query_new = [' '.join(query_tok)]\n",
        "  query_vector = np.array(vectorizer.transform(query_new).todense())[0]\n",
        "  \n",
        "  scores_bm25 = tf_matrix_upd_1.dot(query_vector)\n",
        "  \n",
        "  return scores_bm25"
      ],
      "execution_count": 0,
      "outputs": []
    },
    {
      "cell_type": "code",
      "metadata": {
        "id": "rh2wGk4rurpl",
        "colab_type": "code",
        "colab": {}
      },
      "source": [
        "scores_bm25 = bm25_vect_ver('рождественские каникулы')"
      ],
      "execution_count": 0,
      "outputs": []
    },
    {
      "cell_type": "code",
      "metadata": {
        "id": "HioEyVQvgwVg",
        "colab_type": "code",
        "colab": {}
      },
      "source": [
        "score_ids = []\n",
        "for i in range(len(scores_bm25)):\n",
        "  score_ids.append([i,scores_bm25[i]])"
      ],
      "execution_count": 0,
      "outputs": []
    },
    {
      "cell_type": "code",
      "metadata": {
        "id": "O0fSXmBahDwj",
        "colab_type": "code",
        "colab": {}
      },
      "source": [
        "new_list = sorted(score_ids, key=lambda x:x[1], reverse=True)"
      ],
      "execution_count": 0,
      "outputs": []
    },
    {
      "cell_type": "code",
      "metadata": {
        "id": "YDjXo_acifGj",
        "colab_type": "code",
        "outputId": "0edfa0f8-0987-4d2a-ebf2-724b40d15246",
        "colab": {
          "base_uri": "https://localhost:8080/",
          "height": 194
        }
      },
      "source": [
        "for i in range(5):\n",
        "  print(new_list[i])\n",
        "  print(texts[new_list[i][0]])"
      ],
      "execution_count": 35,
      "outputs": [
        {
          "output_type": "stream",
          "text": [
            "[6587, 4.485471472199777]\n",
            "каков ваш рождественский список\n",
            "[7194, 0.9657913419547931]\n",
            "я не хочу покупать маме рождественский подарок, что я должен делать\n",
            "[0, 0.0]\n",
            "что произойдет, если правительство Индии украдет кохинор кох-и-ноор-алмаз назад\n",
            "[1, 0.0]\n",
            "как повысить скорость интернета путем взлома через dns\n",
            "[2, 0.0]\n",
            "найти остаток, когда математика 23 ^ 24 математика разделена на 24 23\n"
          ],
          "name": "stdout"
        }
      ]
    },
    {
      "cell_type": "markdown",
      "metadata": {
        "id": "oDzm7Otz38Wt",
        "colab_type": "text"
      },
      "source": [
        "Функция попарного расчета"
      ]
    },
    {
      "cell_type": "code",
      "metadata": {
        "id": "dQN8-2HhjuF4",
        "colab_type": "code",
        "colab": {}
      },
      "source": [
        "def bm25_pair_ver(query, b):\n",
        "  k = 2\n",
        "  query_tokenized = tokenize(query)\n",
        "  results = []\n",
        "  for i in range(test_N):\n",
        "    bm25_score = 0\n",
        "    for j in range(len(query_tokenized)):\n",
        "      word = query_tokenized[j]\n",
        "      l = doc_lens[i]\n",
        "      if word in words:\n",
        "        word_id = words.index(word)\n",
        "        tf_val = tf_matrix[(i, word_id)]\n",
        "        tf_new = (tf_val * (k + 1.0))/(tf_val + k * (1.0 - b + b * (l/len_mean)))\n",
        "        bm25_score += all_idfs[word_id] * tf_new\n",
        "      else:\n",
        "        bm25_score += 0\n",
        "    results.append(bm25_score)\n",
        "  return results"
      ],
      "execution_count": 0,
      "outputs": []
    },
    {
      "cell_type": "markdown",
      "metadata": {
        "id": "6EEs-X_pJ8Rm",
        "colab_type": "text"
      },
      "source": [
        "Сравнение времени работы последних двух функций"
      ]
    },
    {
      "cell_type": "code",
      "metadata": {
        "id": "Cwp39iD2oPiT",
        "colab_type": "code",
        "outputId": "d16999f3-fdd6-4de5-cd64-f9a326bcfbc6",
        "colab": {
          "base_uri": "https://localhost:8080/",
          "height": 52
        }
      },
      "source": [
        "query_0 = 'история кохинор продолжается'\n",
        "from time import time\n",
        "start1 = time()\n",
        "result_1 = bm25_vect_ver(query_0)\n",
        "time1 = str(time() - start1)\n",
        "print('Time of the first function: ' + time1)\n",
        "\n",
        "start2 = time()\n",
        "result_2 = bm25_pair_ver(query_0, b)\n",
        "time2 = str(time() - start2)\n",
        "print('Time of the second function: ' + time2)\n"
      ],
      "execution_count": 38,
      "outputs": [
        {
          "output_type": "stream",
          "text": [
            "Time of the first function: 0.0552213191986084\n",
            "Time of the second function: 3.8122305870056152\n"
          ],
          "name": "stdout"
        }
      ]
    },
    {
      "cell_type": "markdown",
      "metadata": {
        "id": "YJjKbJ9eJxVZ",
        "colab_type": "text"
      },
      "source": [
        "Пример топ 10 со значениями bm25"
      ]
    },
    {
      "cell_type": "code",
      "metadata": {
        "id": "YlSe1AaPpiCN",
        "colab_type": "code",
        "colab": {}
      },
      "source": [
        "query_2 = 'рождественские каникулы'"
      ],
      "execution_count": 0,
      "outputs": []
    },
    {
      "cell_type": "code",
      "metadata": {
        "id": "zSuJLYLqpp0V",
        "colab_type": "code",
        "colab": {}
      },
      "source": [
        "bm25_scores = bm25_pair_ver(query_2, b)"
      ],
      "execution_count": 0,
      "outputs": []
    },
    {
      "cell_type": "code",
      "metadata": {
        "id": "EYZkrzryqgGw",
        "colab_type": "code",
        "colab": {}
      },
      "source": [
        "new_mas = []\n",
        "new_list = sorted(enumerate(bm25_scores), key=lambda x:x[1], reverse=True)\n",
        "for i in new_list:\n",
        "  new_mas.append(i[0])"
      ],
      "execution_count": 0,
      "outputs": []
    },
    {
      "cell_type": "code",
      "metadata": {
        "id": "Fq5qg7byt2rz",
        "colab_type": "code",
        "outputId": "ec246fd2-5fe5-4b2e-8dfc-48040845e5ea",
        "colab": {
          "base_uri": "https://localhost:8080/",
          "height": 727
        }
      },
      "source": [
        "top_10 = new_mas[:10]\n",
        "for rank, idx in enumerate(top_10):\n",
        "  print('rank: ', rank)\n",
        "  print('text: ', np.array(texts)[idx])\n",
        "  print('bm25_score: ', bm25_scores[idx], '\\n')"
      ],
      "execution_count": 42,
      "outputs": [
        {
          "output_type": "stream",
          "text": [
            "rank:  0\n",
            "text:  каков ваш рождественский список\n",
            "bm25_score:  19.850743794745526 \n",
            "\n",
            "rank:  1\n",
            "text:  я не хочу покупать маме рождественский подарок, что я должен делать\n",
            "bm25_score:  7.469915516549536 \n",
            "\n",
            "rank:  2\n",
            "text:  что произойдет, если правительство Индии украдет кохинор кох-и-ноор-алмаз назад\n",
            "bm25_score:  0.0 \n",
            "\n",
            "rank:  3\n",
            "text:  как повысить скорость интернета путем взлома через dns\n",
            "bm25_score:  0.0 \n",
            "\n",
            "rank:  4\n",
            "text:  найти остаток, когда математика 23 ^ 24 математика разделена на 24 23\n",
            "bm25_score:  0.0 \n",
            "\n",
            "rank:  5\n",
            "text:  какая рыба выживет в соленой воде\n",
            "bm25_score:  0.0 \n",
            "\n",
            "rank:  6\n",
            "text:  Я тройная луна-козерог и восхождение в козероге, что это говорит обо мне\n",
            "bm25_score:  0.0 \n",
            "\n",
            "rank:  7\n",
            "text:  что делает детей активными и далеки от телефонных и видеоигр\n",
            "bm25_score:  0.0 \n",
            "\n",
            "rank:  8\n",
            "text:  что я должен делать, чтобы быть великим геологом?\n",
            "bm25_score:  0.0 \n",
            "\n",
            "rank:  9\n",
            "text:  когда вы используете вместо\n",
            "bm25_score:  0.0 \n",
            "\n"
          ],
          "name": "stdout"
        }
      ]
    },
    {
      "cell_type": "markdown",
      "metadata": {
        "id": "dh8DfR-xJTkZ",
        "colab_type": "text"
      },
      "source": [
        "Приверим результаты с помощью питоновкого варианта подсчета bm_25"
      ]
    },
    {
      "cell_type": "code",
      "metadata": {
        "id": "THB4Me_707ZS",
        "colab_type": "code",
        "outputId": "46c2078f-6c2f-4b3b-c9de-a762fead4fa2",
        "colab": {
          "base_uri": "https://localhost:8080/",
          "height": 194
        }
      },
      "source": [
        "pip install rank_bm25"
      ],
      "execution_count": 43,
      "outputs": [
        {
          "output_type": "stream",
          "text": [
            "Collecting rank_bm25\n",
            "  Downloading https://files.pythonhosted.org/packages/d2/e4/38d03d6d5e2deae8d2838b81d6ba2742475ced42045f5c46aeb00c5fb79c/rank_bm25-0.2.tar.gz\n",
            "Requirement already satisfied: numpy in /usr/local/lib/python3.6/dist-packages (from rank_bm25) (1.16.5)\n",
            "Building wheels for collected packages: rank-bm25\n",
            "  Building wheel for rank-bm25 (setup.py) ... \u001b[?25l\u001b[?25hdone\n",
            "  Created wheel for rank-bm25: filename=rank_bm25-0.2-cp36-none-any.whl size=4162 sha256=277773f944e9ba01c3b4ed2239982f3a2d01726e6d734021822299603d2bd658\n",
            "  Stored in directory: /root/.cache/pip/wheels/6f/0c/1f/78945dd6a5478bbcdb50d73ac96ae5af2ffcdfcd374fd9b1bf\n",
            "Successfully built rank-bm25\n",
            "Installing collected packages: rank-bm25\n",
            "Successfully installed rank-bm25-0.2\n"
          ],
          "name": "stdout"
        }
      ]
    },
    {
      "cell_type": "code",
      "metadata": {
        "id": "Xhm3QmNgy3rr",
        "colab_type": "code",
        "colab": {}
      },
      "source": [
        "from rank_bm25 import BM25Okapi"
      ],
      "execution_count": 0,
      "outputs": []
    },
    {
      "cell_type": "code",
      "metadata": {
        "id": "MzXXmxbFy688",
        "colab_type": "code",
        "colab": {}
      },
      "source": [
        "bm25 = BM25Okapi(corpus)"
      ],
      "execution_count": 0,
      "outputs": []
    },
    {
      "cell_type": "code",
      "metadata": {
        "id": "3_PYDtiz1tIt",
        "colab_type": "code",
        "colab": {}
      },
      "source": [
        "query_tokenized = tokenize(query_2)"
      ],
      "execution_count": 0,
      "outputs": []
    },
    {
      "cell_type": "code",
      "metadata": {
        "id": "PfSMkyZI1zYP",
        "colab_type": "code",
        "outputId": "b7884d93-db98-4c8a-b5e8-caca247aa27d",
        "colab": {
          "base_uri": "https://localhost:8080/",
          "height": 34
        }
      },
      "source": [
        "query_tokenized"
      ],
      "execution_count": 47,
      "outputs": [
        {
          "output_type": "execute_result",
          "data": {
            "text/plain": [
              "['рождественский', 'каникулы']"
            ]
          },
          "metadata": {
            "tags": []
          },
          "execution_count": 47
        }
      ]
    },
    {
      "cell_type": "code",
      "metadata": {
        "id": "vij_2ExI12y7",
        "colab_type": "code",
        "colab": {}
      },
      "source": [
        "doc_scores = bm25.get_scores(query_tokenized)"
      ],
      "execution_count": 0,
      "outputs": []
    },
    {
      "cell_type": "code",
      "metadata": {
        "id": "86K-c3k22F2t",
        "colab_type": "code",
        "outputId": "7e8c3c98-df1f-4b84-d960-792e9f92dffa",
        "colab": {
          "base_uri": "https://localhost:8080/",
          "height": 372
        }
      },
      "source": [
        "r = 0\n",
        "for i in bm25.get_top_n(query_tokenized, corpus, n=10):\n",
        "  print(\"rank\", r)\n",
        "  r += 1\n",
        "  print(i)"
      ],
      "execution_count": 49,
      "outputs": [
        {
          "output_type": "stream",
          "text": [
            "rank 0\n",
            "['каков', 'ваш', 'рождественский', 'список']\n",
            "rank 1\n",
            "['я', 'не', 'хотеть', 'покупать', 'мама', 'рождественский', 'подарок', 'что', 'я', 'должный', 'делать']\n",
            "rank 2\n",
            "['безопасно', 'ли', 'для', 'женщина', 'путешествовать', 'в', 'одиночка', 'в', 'япония']\n",
            "rank 3\n",
            "['какой', 'странный', 'сувенир', 'для', 'покемон', 'в', 'луч', 'солнце', 'и', 'луна']\n",
            "rank 4\n",
            "['быть', 'работать', 'карта', 'r', 'на', 'do', 'd', 'x']\n",
            "rank 5\n",
            "['сколько', 'деньга', 'быть', 'составлять', 'рупия', 'за', 'год', 'на', 'годовой']\n",
            "rank 6\n",
            "['как', 'увеличить', 'рост']\n",
            "rank 7\n",
            "['античный', 'бизнес', 'юридический', 'в', 'индия']\n",
            "rank 8\n",
            "['который', 'являться', 'самый', 'известный', 'поэт']\n",
            "rank 9\n",
            "['что', 'вызывать', 'рост', 'продажа', 'pho', 'за', 'апрель', 'год']\n"
          ],
          "name": "stdout"
        }
      ]
    },
    {
      "cell_type": "markdown",
      "metadata": {
        "id": "cstRnhoQKkpi",
        "colab_type": "text"
      },
      "source": [
        "Попробуем посчитать точность поиска"
      ]
    },
    {
      "cell_type": "code",
      "metadata": {
        "id": "m1vHPzVZFHAS",
        "colab_type": "code",
        "colab": {}
      },
      "source": [
        "def test(query, b): #функция возвращает 1, если в топ 5 есть хоть однин документ с 1 в is_duplicate, и 0, если такого нет.\n",
        "  bm25_scores = bm25_pair_ver(query, b)\n",
        "  mas = []\n",
        "  new_list = sorted(enumerate(bm25_scores), key=lambda x:x[1], reverse=True)\n",
        "  for i in new_list:\n",
        "    mas.append(i[0])\n",
        "  top_5 = mas[:5]\n",
        "  is_dupl_scores = []\n",
        "  for rank, idx in enumerate(top_5):\n",
        "    is_dupl_score = np.array(test_table)[idx]\n",
        "    is_dupl_scores.append(is_dupl_score[3])\n",
        "  if 1 in is_dupl_scores:\n",
        "    success = 1\n",
        "  else:\n",
        "    success = 0\n",
        "  return success"
      ],
      "execution_count": 0,
      "outputs": []
    },
    {
      "cell_type": "markdown",
      "metadata": {
        "id": "2gEF8K_iCP56",
        "colab_type": "text"
      },
      "source": [
        "Так как код работает долго, посчитаю точность только для 10 примеров"
      ]
    },
    {
      "cell_type": "code",
      "metadata": {
        "id": "O0ICZutQBj9-",
        "colab_type": "code",
        "colab": {}
      },
      "source": [
        "def acc_score(b):\n",
        "  sum_score = 0\n",
        "  for i in queries[:10]:\n",
        "    success = test(i, b)\n",
        "    sum_score += success\n",
        "  acc = sum_score/len(queries[:10])\n",
        "  return acc"
      ],
      "execution_count": 0,
      "outputs": []
    },
    {
      "cell_type": "code",
      "metadata": {
        "id": "04dPAS3Y7cTD",
        "colab_type": "code",
        "colab": {}
      },
      "source": [
        "acc_1 = acc_score(0.75)"
      ],
      "execution_count": 0,
      "outputs": []
    },
    {
      "cell_type": "code",
      "metadata": {
        "id": "0wCbP9U0CCe8",
        "colab_type": "code",
        "colab": {
          "base_uri": "https://localhost:8080/",
          "height": 34
        },
        "outputId": "1bafcffc-93f6-4f0c-82ba-2d6ae6fdce6f"
      },
      "source": [
        "acc_1"
      ],
      "execution_count": 80,
      "outputs": [
        {
          "output_type": "execute_result",
          "data": {
            "text/plain": [
              "0.8"
            ]
          },
          "metadata": {
            "tags": []
          },
          "execution_count": 80
        }
      ]
    },
    {
      "cell_type": "code",
      "metadata": {
        "id": "j47fJ-Q_DLPK",
        "colab_type": "code",
        "colab": {}
      },
      "source": [
        "acc_2 = acc_score(0)"
      ],
      "execution_count": 0,
      "outputs": []
    },
    {
      "cell_type": "code",
      "metadata": {
        "id": "zUESEBO9DOD3",
        "colab_type": "code",
        "colab": {
          "base_uri": "https://localhost:8080/",
          "height": 34
        },
        "outputId": "c11a49fa-0974-4a70-c07e-dbfe5a5b292a"
      },
      "source": [
        "acc_2"
      ],
      "execution_count": 82,
      "outputs": [
        {
          "output_type": "execute_result",
          "data": {
            "text/plain": [
              "0.9"
            ]
          },
          "metadata": {
            "tags": []
          },
          "execution_count": 82
        }
      ]
    },
    {
      "cell_type": "code",
      "metadata": {
        "id": "i2wSdWrpDPSY",
        "colab_type": "code",
        "colab": {}
      },
      "source": [
        "acc_3 = acc_score(1)"
      ],
      "execution_count": 0,
      "outputs": []
    },
    {
      "cell_type": "code",
      "metadata": {
        "id": "PkTIb9tvDTpS",
        "colab_type": "code",
        "colab": {
          "base_uri": "https://localhost:8080/",
          "height": 34
        },
        "outputId": "5baefcb2-9a77-4b3a-d00d-16c53d09cf2f"
      },
      "source": [
        "acc_3"
      ],
      "execution_count": 84,
      "outputs": [
        {
          "output_type": "execute_result",
          "data": {
            "text/plain": [
              "0.8"
            ]
          },
          "metadata": {
            "tags": []
          },
          "execution_count": 84
        }
      ]
    },
    {
      "cell_type": "markdown",
      "metadata": {
        "id": "fRzuvPLke7fs",
        "colab_type": "text"
      },
      "source": [
        "Видно, что на маленькой выборке результаты получились почти одинаковые."
      ]
    }
  ]
}