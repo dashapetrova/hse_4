{
  "nbformat": 4,
  "nbformat_minor": 0,
  "metadata": {
    "colab": {
      "name": "hw1_friends.ipynb",
      "provenance": [],
      "collapsed_sections": []
    },
    "kernelspec": {
      "display_name": "Python 3",
      "language": "python",
      "name": "python3"
    },
    "language_info": {
      "codemirror_mode": {
        "name": "ipython",
        "version": 3
      },
      "file_extension": ".py",
      "mimetype": "text/x-python",
      "name": "python",
      "nbconvert_exporter": "python",
      "pygments_lexer": "ipython3",
      "version": "3.6.3"
    }
  },
  "cells": [
    {
      "cell_type": "code",
      "metadata": {
        "colab_type": "code",
        "id": "61hKF7o0wx_3",
        "colab": {}
      },
      "source": [
        "import os"
      ],
      "execution_count": 0,
      "outputs": []
    },
    {
      "cell_type": "code",
      "metadata": {
        "id": "MM6vrIqu3GNG",
        "colab_type": "code",
        "colab": {
          "base_uri": "https://localhost:8080/",
          "height": 122
        },
        "outputId": "3cd9976c-9123-40fb-d1f3-2091ba01e7a3"
      },
      "source": [
        "from google.colab import drive\n",
        "drive.mount('/content/gdrive')"
      ],
      "execution_count": 3,
      "outputs": [
        {
          "output_type": "stream",
          "text": [
            "Go to this URL in a browser: https://accounts.google.com/o/oauth2/auth?client_id=947318989803-6bn6qk8qdgf4n4g3pfee6491hc0brc4i.apps.googleusercontent.com&redirect_uri=urn%3Aietf%3Awg%3Aoauth%3A2.0%3Aoob&scope=email%20https%3A%2F%2Fwww.googleapis.com%2Fauth%2Fdocs.test%20https%3A%2F%2Fwww.googleapis.com%2Fauth%2Fdrive%20https%3A%2F%2Fwww.googleapis.com%2Fauth%2Fdrive.photos.readonly%20https%3A%2F%2Fwww.googleapis.com%2Fauth%2Fpeopleapi.readonly&response_type=code\n",
            "\n",
            "Enter your authorization code:\n",
            "··········\n",
            "Mounted at /content/gdrive\n"
          ],
          "name": "stdout"
        }
      ]
    },
    {
      "cell_type": "code",
      "metadata": {
        "colab_type": "code",
        "id": "YMkxd7GFwUJb",
        "colab": {}
      },
      "source": [
        "os.chdir('gdrive/My Drive/Colab Notebooks')"
      ],
      "execution_count": 0,
      "outputs": []
    },
    {
      "cell_type": "code",
      "metadata": {
        "colab_type": "code",
        "id": "6ukxn7ntxYHD",
        "outputId": "44936c0b-440b-4fb9-91c8-fd224a1208a0",
        "colab": {
          "base_uri": "https://localhost:8080/",
          "height": 34
        }
      },
      "source": [
        "os.getcwd()"
      ],
      "execution_count": 5,
      "outputs": [
        {
          "output_type": "execute_result",
          "data": {
            "text/plain": [
              "'/content/gdrive/My Drive/Colab Notebooks'"
            ]
          },
          "metadata": {
            "tags": []
          },
          "execution_count": 5
        }
      ]
    },
    {
      "cell_type": "code",
      "metadata": {
        "colab_type": "code",
        "id": "HZygKPV6yIjH",
        "colab": {}
      },
      "source": [
        "os.chdir('friends')"
      ],
      "execution_count": 0,
      "outputs": []
    },
    {
      "cell_type": "code",
      "metadata": {
        "colab_type": "code",
        "id": "v8wiSbbG1tI3",
        "colab": {}
      },
      "source": [
        "top = os.getcwd()"
      ],
      "execution_count": 0,
      "outputs": []
    },
    {
      "cell_type": "code",
      "metadata": {
        "colab_type": "code",
        "id": "oPc0SWvq9ZJR",
        "colab": {}
      },
      "source": [
        "folder = []\n",
        "for i in os.walk(top):\n",
        "  folder.append(i)"
      ],
      "execution_count": 0,
      "outputs": []
    },
    {
      "cell_type": "code",
      "metadata": {
        "colab_type": "code",
        "id": "vvu7Hty1xe-7",
        "colab": {}
      },
      "source": [
        "episodes = []\n",
        "seasons = []\n",
        "texts = []\n",
        "for address, dirs, files in folder:\n",
        "  for file in files:\n",
        "    os.chdir(address)\n",
        "    parts = file.split(' - ')\n",
        "    episodes.append(parts[2])\n",
        "    num = parts[1].split('x')\n",
        "    seasons.append(num[0])\n",
        "    f = open(file,'r',encoding = \"utf-8\")\n",
        "    text = f.read()\n",
        "    texts.append(text)\n",
        "\n",
        "    "
      ],
      "execution_count": 0,
      "outputs": []
    },
    {
      "cell_type": "code",
      "metadata": {
        "id": "vUsjUkScz0Ui",
        "colab_type": "code",
        "colab": {}
      },
      "source": [
        "import re"
      ],
      "execution_count": 0,
      "outputs": []
    },
    {
      "cell_type": "code",
      "metadata": {
        "id": "dbAzCCja4X-d",
        "colab_type": "code",
        "colab": {
          "base_uri": "https://localhost:8080/",
          "height": 224
        },
        "outputId": "f81e6c64-d82a-4203-86ed-1fcd4be8b16e"
      },
      "source": [
        "pip install pymorphy2"
      ],
      "execution_count": 21,
      "outputs": [
        {
          "output_type": "stream",
          "text": [
            "Collecting pymorphy2\n",
            "\u001b[?25l  Downloading https://files.pythonhosted.org/packages/a3/33/fff9675c68b5f6c63ec8c6e6ff57827dda28a1fa5b2c2d727dffff92dd47/pymorphy2-0.8-py2.py3-none-any.whl (46kB)\n",
            "\u001b[K     |████████████████████████████████| 51kB 6.2MB/s \n",
            "\u001b[?25hRequirement already satisfied: docopt>=0.6 in /usr/local/lib/python3.6/dist-packages (from pymorphy2) (0.6.2)\n",
            "Collecting dawg-python>=0.7 (from pymorphy2)\n",
            "  Downloading https://files.pythonhosted.org/packages/6a/84/ff1ce2071d4c650ec85745766c0047ccc3b5036f1d03559fd46bb38b5eeb/DAWG_Python-0.7.2-py2.py3-none-any.whl\n",
            "Collecting pymorphy2-dicts<3.0,>=2.4 (from pymorphy2)\n",
            "\u001b[?25l  Downloading https://files.pythonhosted.org/packages/02/51/2465fd4f72328ab50877b54777764d928da8cb15b74e2680fc1bd8cb3173/pymorphy2_dicts-2.4.393442.3710985-py2.py3-none-any.whl (7.1MB)\n",
            "\u001b[K     |████████████████████████████████| 7.1MB 24.3MB/s \n",
            "\u001b[?25hInstalling collected packages: dawg-python, pymorphy2-dicts, pymorphy2\n",
            "Successfully installed dawg-python-0.7.2 pymorphy2-0.8 pymorphy2-dicts-2.4.393442.3710985\n"
          ],
          "name": "stdout"
        }
      ]
    },
    {
      "cell_type": "code",
      "metadata": {
        "id": "CdMZ6C4qz0U0",
        "colab_type": "code",
        "colab": {}
      },
      "source": [
        "import pymorphy2\n",
        "morph = pymorphy2.MorphAnalyzer()"
      ],
      "execution_count": 0,
      "outputs": []
    },
    {
      "cell_type": "code",
      "metadata": {
        "id": "hie6algYz0VB",
        "colab_type": "code",
        "colab": {}
      },
      "source": [
        "m = []#массив массивов лемм слов всех текстов\n",
        "for t in texts:#for text\n",
        "    ws = []\n",
        "    if t != \"\":\n",
        "      words = t.split()\n",
        "      for w in words:\n",
        "        w = re.sub('[.,-;:?!@#$%^&()_+=—\\ufeff–\"…«»>wwwtvsubtitlesnet]', '', w).lower()#чистим слова\n",
        "        if w != \"\":\n",
        "          p = morph.parse(w)[0]\n",
        "          if p not in ws:\n",
        "            ws.append(p.normal_form)\n",
        "      m.append(ws)"
      ],
      "execution_count": 0,
      "outputs": []
    },
    {
      "cell_type": "code",
      "metadata": {
        "id": "URa30OrW8Hqz",
        "colab_type": "code",
        "colab": {}
      },
      "source": [
        "from sklearn.feature_extraction.text import CountVectorizer\n",
        "import numpy as np\n",
        "\n",
        "vectorizer = CountVectorizer()"
      ],
      "execution_count": 0,
      "outputs": []
    },
    {
      "cell_type": "code",
      "metadata": {
        "id": "rrDNjWUG8OZJ",
        "colab_type": "code",
        "colab": {}
      },
      "source": [
        "arrstr = []\n",
        "for text in m:  \n",
        "  s = ' '.join(text)\n",
        "  arrstr.append(s)"
      ],
      "execution_count": 0,
      "outputs": []
    },
    {
      "cell_type": "code",
      "metadata": {
        "id": "3G5myhNy8hJC",
        "colab_type": "code",
        "colab": {}
      },
      "source": [
        "X = vectorizer.fit_transform(arrstr)\n",
        "\n",
        "matrix = X.toarray()"
      ],
      "execution_count": 0,
      "outputs": []
    },
    {
      "cell_type": "code",
      "metadata": {
        "id": "_0UskXDI42Jb",
        "colab_type": "code",
        "colab": {}
      },
      "source": [
        "reverse_matrix = np.transpose(matrix) #обратная матрица"
      ],
      "execution_count": 0,
      "outputs": []
    },
    {
      "cell_type": "code",
      "metadata": {
        "id": "xPy4YbCoIPoQ",
        "colab_type": "code",
        "colab": {}
      },
      "source": [
        "words = vectorizer.get_feature_names()"
      ],
      "execution_count": 0,
      "outputs": []
    },
    {
      "cell_type": "code",
      "metadata": {
        "id": "qcFi8Ij49ffh",
        "colab_type": "code",
        "colab": {}
      },
      "source": [
        "import pandas as pd\n",
        "matrix_copy = matrix.copy()\n",
        "df = pd.DataFrame(matrix_copy, index = episodes, columns=vectorizer.get_feature_names())"
      ],
      "execution_count": 0,
      "outputs": []
    },
    {
      "cell_type": "code",
      "metadata": {
        "id": "FGCK3Lg-5jHc",
        "colab_type": "code",
        "colab": {}
      },
      "source": [
        "rev_matrix_copy = reverse_matrix.copy()\n",
        "df2 = pd.DataFrame(rev_matrix_copy, index = vectorizer.get_feature_names(), columns=episodes)"
      ],
      "execution_count": 0,
      "outputs": []
    },
    {
      "cell_type": "markdown",
      "metadata": {
        "id": "ryauyx9GQFul",
        "colab_type": "text"
      },
      "source": [
        "Пример работы поисковика, с помощью расчета косинусной близости."
      ]
    },
    {
      "cell_type": "code",
      "metadata": {
        "id": "WS7TRqMvL--p",
        "colab_type": "code",
        "colab": {}
      },
      "source": [
        "from collections import Counter\n",
        "import operator\n",
        "import math"
      ],
      "execution_count": 0,
      "outputs": []
    },
    {
      "cell_type": "code",
      "metadata": {
        "id": "g6FB0ySNQDMl",
        "colab_type": "code",
        "colab": {}
      },
      "source": [
        "def tokenize(doc):\n",
        "  ws = []\n",
        "  words = doc.split()\n",
        "  for w in words:\n",
        "    w = re.sub('[.,-;:?!@#$%^&()_+=—\\ufeff–\"…«»>wwwtvsubtitlesnet]', '', w).lower()\n",
        "    if w != \"\":\n",
        "      p = morph.parse(w)[0]\n",
        "      ws.append(p.normal_form)\n",
        "  return ws"
      ],
      "execution_count": 0,
      "outputs": []
    },
    {
      "cell_type": "code",
      "metadata": {
        "id": "IBT7bbbkRnsS",
        "colab_type": "code",
        "colab": {}
      },
      "source": [
        "def build_terms(corpus):\n",
        "    terms = {}\n",
        "    current_index = 0\n",
        "    for doc in corpus:\n",
        "        for word in tokenize(doc):\n",
        "            if word not in terms:\n",
        "                terms[word] = current_index\n",
        "                current_index += 1\n",
        "    return terms"
      ],
      "execution_count": 0,
      "outputs": []
    },
    {
      "cell_type": "code",
      "metadata": {
        "id": "xXjlvG3eRvos",
        "colab_type": "code",
        "colab": {}
      },
      "source": [
        "def tf(document, terms):\n",
        "    words = tokenize(document)\n",
        "    total_words = len(words)\n",
        "    doc_counter = Counter(words)\n",
        "    for word in doc_counter:\n",
        "        doc_counter[word] /= total_words\n",
        "    tfs = [0 for _ in range(len(terms))]\n",
        "    for term, index in terms.items():\n",
        "        tfs[index] = doc_counter[term]\n",
        "    return tfs\n",
        "\n",
        "\n",
        "def _count_docs_with_word(word, docs):\n",
        "    counter = 1\n",
        "    for doc in docs:\n",
        "        if word in doc:\n",
        "            counter += 1\n",
        "    return counter\n",
        "\n",
        "\n",
        "def idf(documents, terms):\n",
        "    idfs = [0 for _ in range(len(terms))]\n",
        "    total_docs = len(documents)\n",
        "    for word, index in terms.items():\n",
        "        docs_with_word = _count_docs_with_word(word, documents)\n",
        "        idf = 1 + math.log10(total_docs / docs_with_word)\n",
        "        idfs[index] = idf\n",
        "    return idfs"
      ],
      "execution_count": 0,
      "outputs": []
    },
    {
      "cell_type": "code",
      "metadata": {
        "id": "WCQRtusqR2Fc",
        "colab_type": "code",
        "colab": {}
      },
      "source": [
        "def _merge_td_idf(tf, idf, terms):\n",
        "    return [tf[i] * idf[i] for i in range(len(terms))]\n",
        "\n",
        "\n",
        "def build_tfidf(corpus, document, terms):\n",
        "    doc_tf = tf(document, terms)\n",
        "    doc_idf = idf(corpus, terms)\n",
        "    return _merge_td_idf(doc_tf, doc_idf, terms)\n",
        "\n",
        "\n",
        "def cosine_similarity(vec1, vec2):\n",
        "    def dot_product2(v1, v2):\n",
        "        return sum(map(operator.mul, v1, v2))\n",
        "\n",
        "    def vector_cos5(v1, v2):\n",
        "        prod = dot_product2(v1, v2)\n",
        "        len1 = math.sqrt(dot_product2(v1, v1))\n",
        "        len2 = math.sqrt(dot_product2(v2, v2))\n",
        "        return prod / (len1 * len2)\n",
        "\n",
        "    return vector_cos5(vec1, vec2)"
      ],
      "execution_count": 0,
      "outputs": []
    },
    {
      "cell_type": "code",
      "metadata": {
        "id": "SmIXjvGRR9wb",
        "colab_type": "code",
        "colab": {}
      },
      "source": [
        "tf_idf_total = []\n",
        "corpus = texts"
      ],
      "execution_count": 0,
      "outputs": []
    },
    {
      "cell_type": "code",
      "metadata": {
        "id": "aiFzevE8SHuJ",
        "colab_type": "code",
        "colab": {}
      },
      "source": [
        "terms = build_terms(corpus)"
      ],
      "execution_count": 0,
      "outputs": []
    },
    {
      "cell_type": "code",
      "metadata": {
        "id": "E_PFJUFITAB3",
        "colab_type": "code",
        "colab": {}
      },
      "source": [
        "for document in corpus:\n",
        "    tf_idf_total.append(build_tfidf(corpus, document, terms))"
      ],
      "execution_count": 0,
      "outputs": []
    },
    {
      "cell_type": "code",
      "metadata": {
        "id": "I9EFTY8jTwyG",
        "colab_type": "code",
        "colab": {}
      },
      "source": [
        "query = \"Чендлер купил ящик\""
      ],
      "execution_count": 0,
      "outputs": []
    },
    {
      "cell_type": "code",
      "metadata": {
        "id": "9HDz-Gt3T0zR",
        "colab_type": "code",
        "colab": {}
      },
      "source": [
        "results = {}\n",
        "query_tfidf = build_tfidf(corpus, query, terms)\n",
        "for index, document in enumerate(tf_idf_total):\n",
        "  results[index] = cosine_similarity(query_tfidf, document)"
      ],
      "execution_count": 0,
      "outputs": []
    },
    {
      "cell_type": "code",
      "metadata": {
        "id": "R_IU7Sl3W9ST",
        "colab_type": "code",
        "outputId": "502ca80b-9513-4c11-aa5b-59f9a4b250b2",
        "colab": {
          "base_uri": "https://localhost:8080/",
          "height": 54
        }
      },
      "source": [
        "ld = list(results.items())\n",
        "ld.sort(key=lambda i: i[1], reverse= True)\n",
        "print(ld)"
      ],
      "execution_count": 44,
      "outputs": [
        {
          "output_type": "stream",
          "text": [
            "[(22, 0.17512997196510374), (23, 0.1662439012861859), (144, 0.1572283845978609), (20, 0.1508927703589887), (53, 0.14929661006486883), (27, 0.1462875912541385), (128, 0.12499758113608103), (107, 0.1226690341863987), (140, 0.1202802521217127), (0, 0.11986192018672535), (61, 0.1162211990604199), (40, 0.11287712824591493), (66, 0.11119417708241561), (75, 0.10837953312796222), (2, 0.10809169689085543), (36, 0.10755903218455752), (143, 0.10571297648676478), (46, 0.10131140400034573), (7, 0.09584094523539134), (57, 0.0938708177332661), (120, 0.09260545510260572), (52, 0.08950003130697444), (41, 0.08884128891423186), (44, 0.08841820326984873), (30, 0.08808821824244448), (139, 0.08749210661551768), (109, 0.08708489091853405), (104, 0.08559418430190878), (150, 0.08442887241450342), (134, 0.08031877322619657), (116, 0.07968049507282712), (157, 0.07949701455522937), (37, 0.07945737288010266), (163, 0.0792554073656793), (127, 0.07859957067555257), (129, 0.07424641749342942), (58, 0.07389098057092687), (54, 0.07101711259487026), (100, 0.06889334168626246), (125, 0.06795997953015309), (31, 0.06738642211661094), (3, 0.06637824652065144), (158, 0.06525565332899913), (43, 0.06474737678896074), (133, 0.06457879388989866), (118, 0.06453548354821136), (126, 0.06407349677715522), (8, 0.0628665783951701), (146, 0.06155848180046527), (65, 0.060922627125720635), (33, 0.0607837043521815), (1, 0.05988951210729759), (86, 0.058105423372898986), (149, 0.05799170384708592), (16, 0.05783976451159944), (42, 0.05717872799542133), (15, 0.05601369767491477), (121, 0.05581909708025362), (47, 0.05526116160794131), (141, 0.05461029582045944), (63, 0.05429599916703057), (101, 0.05382884267902137), (152, 0.05373375448301957), (137, 0.052929853441443644), (34, 0.05260516515561513), (21, 0.052420576620173444), (155, 0.052394571062438756), (10, 0.05204865240542873), (154, 0.051609798706922685), (17, 0.05130238359431019), (103, 0.05107346935747549), (71, 0.050617478427048716), (151, 0.049868543810614126), (68, 0.04939004632814446), (62, 0.04936559068351479), (130, 0.04879956651340356), (96, 0.04794113817517862), (5, 0.046981253013773386), (4, 0.0462761562651462), (39, 0.04543516750785211), (74, 0.04472293124261427), (78, 0.044489662959184904), (132, 0.04441170532775908), (6, 0.04299799084137419), (135, 0.041852401017775404), (29, 0.04142637583165863), (18, 0.04099546149433566), (72, 0.039974930651745115), (19, 0.03975677497725893), (45, 0.038597167477281626), (9, 0.03804070111764388), (99, 0.03796328969913839), (55, 0.036765692721454676), (76, 0.0367317424480183), (110, 0.03642946123839669), (105, 0.03587377706046006), (77, 0.035822499797369976), (38, 0.034940085778576074), (14, 0.03432381793937173), (106, 0.033786793129841564), (73, 0.03325879685447048), (145, 0.03285569872787847), (13, 0.03217490612752537), (81, 0.031788334317262426), (49, 0.031784257719687216), (124, 0.03173027319485167), (56, 0.03168574845230109), (131, 0.030906741191112443), (122, 0.030130075289191992), (92, 0.02975677914579394), (94, 0.029560683396972265), (138, 0.029309293405593597), (97, 0.028085946393876012), (148, 0.026894662614309464), (83, 0.026139297297956506), (87, 0.026079196685086067), (142, 0.025970175103319892), (35, 0.023882196761394543), (95, 0.02251617975954461), (93, 0.02191721551811571), (48, 0.021717522586114178), (60, 0.021530480443539782), (69, 0.020988811809629755), (98, 0.02083790711245169), (119, 0.02069719608632326), (156, 0.019707310057564043), (117, 0.019609184005510212), (123, 0.01904038586277579), (147, 0.01895079530646589), (102, 0.018614158739724804), (91, 0.018018592170589452), (28, 0.016236887089232148), (164, 0.015741604137030064), (24, 0.014492210769763609), (80, 0.014252371193041421), (113, 0.011914356141784278), (136, 0.011879943123594182), (112, 0.011254500054588912), (32, 0.010889354393278749), (82, 0.010820116918769995), (153, 0.010819771207391554), (90, 0.010265649846959579), (114, 0.009407564507996381), (88, 0.007806253764075564), (85, 0.007117268861159877), (11, 0.007004608788159092), (115, 0.00556854559769031), (64, 0.003469618311072217), (84, 0.003009337924057593), (26, 0.0028872609372609438), (161, 0.0028334419527445845), (12, 0.0), (25, 0.0), (50, 0.0), (51, 0.0), (59, 0.0), (67, 0.0), (70, 0.0), (79, 0.0), (89, 0.0), (108, 0.0), (111, 0.0), (159, 0.0), (160, 0.0), (162, 0.0)]\n"
          ],
          "name": "stdout"
        }
      ]
    },
    {
      "cell_type": "code",
      "metadata": {
        "id": "qEVJ5QPCgg32",
        "colab_type": "code",
        "outputId": "a42f2177-ce7f-41c2-a760-8f91aa224ede",
        "colab": {
          "base_uri": "https://localhost:8080/",
          "height": 34
        }
      },
      "source": [
        "print('Наиболее релевантный эпизод: ',episodes[22])"
      ],
      "execution_count": 45,
      "outputs": [
        {
          "output_type": "stream",
          "text": [
            "Наиболее релевантный эпизод:  The One With Chandler And Monica's Wedding (2).ru.txt\n"
          ],
          "name": "stdout"
        }
      ]
    },
    {
      "cell_type": "markdown",
      "metadata": {
        "id": "ERRq1tIf2CdV",
        "colab_type": "text"
      },
      "source": [
        "**Ответы на вопросы:**"
      ]
    },
    {
      "cell_type": "code",
      "metadata": {
        "id": "3UfLNYMbEcan",
        "colab_type": "code",
        "colab": {}
      },
      "source": [
        "df2['total'] = df2.sum(axis=1) #в датафрейм с обратной матрицей добавили столбец с частотой появления слова в сериях"
      ],
      "execution_count": 0,
      "outputs": []
    },
    {
      "cell_type": "markdown",
      "metadata": {
        "id": "Q107daCKBOEO",
        "colab_type": "text"
      },
      "source": [
        "a) какое слово является самым частотным"
      ]
    },
    {
      "cell_type": "code",
      "metadata": {
        "id": "SWGQj5lUEyTu",
        "colab_type": "code",
        "colab": {
          "base_uri": "https://localhost:8080/",
          "height": 231
        },
        "outputId": "5d629b1b-5e2a-4af2-edff-da2c68887959"
      },
      "source": [
        "df2[df2['total']==df2['total'].max()]"
      ],
      "execution_count": 53,
      "outputs": [
        {
          "output_type": "execute_result",
          "data": {
            "text/html": [
              "<div>\n",
              "<style scoped>\n",
              "    .dataframe tbody tr th:only-of-type {\n",
              "        vertical-align: middle;\n",
              "    }\n",
              "\n",
              "    .dataframe tbody tr th {\n",
              "        vertical-align: top;\n",
              "    }\n",
              "\n",
              "    .dataframe thead th {\n",
              "        text-align: right;\n",
              "    }\n",
              "</style>\n",
              "<table border=\"1\" class=\"dataframe\">\n",
              "  <thead>\n",
              "    <tr style=\"text-align: right;\">\n",
              "      <th></th>\n",
              "      <th>The One With Rachel's Book.ru.txt</th>\n",
              "      <th>The One With Monica's Thunder.ru.txt</th>\n",
              "      <th>The One Where Chandler Doesn't Like Dogs.ru.txt</th>\n",
              "      <th>The One With The Engagement Picture.ru.txt</th>\n",
              "      <th>The One With All The Candy.ru.txt</th>\n",
              "      <th>The One With Ross's Library Book.ru.txt</th>\n",
              "      <th>The One With Phoebe's Cookies.ru.txt</th>\n",
              "      <th>The One With The Nap Partners.ru.txt</th>\n",
              "      <th>The One With Rachel's Assistant.ru.txt</th>\n",
              "      <th>The One With The Holiday Armadillo.ru.txt</th>\n",
              "      <th>The One Where Rosita Dies.ru.txt</th>\n",
              "      <th>The One With Joey's New Brain.ru.txt</th>\n",
              "      <th>The One With All The Cheesecakes.ru.txt</th>\n",
              "      <th>The One Where They're Up All Night.ru.txt</th>\n",
              "      <th>The One Where They All Turn Thirty.ru.txt</th>\n",
              "      <th>The One With The Cheap Wedding Dress.ru.txt</th>\n",
              "      <th>The One With Ross And Monica's Cousin.ru.txt</th>\n",
              "      <th>The One With Joey's Award.ru.txt</th>\n",
              "      <th>The One With The Truth About London.ru.txt</th>\n",
              "      <th>The One With Rachel's Big Kiss.ru.txt</th>\n",
              "      <th>The One With The Vows.ru.txt</th>\n",
              "      <th>The One With Chandler's Dad.ru.txt</th>\n",
              "      <th>The One With Chandler And Monica's Wedding (2).ru.txt</th>\n",
              "      <th>The One With Chandler And Monica's Wedding (1).ru.txt</th>\n",
              "      <th>The One After Ross Says Rachel.ru.txt</th>\n",
              "      <th>The One With All The Kissing.ru.txt</th>\n",
              "      <th>The One With The Yeti.ru.txt</th>\n",
              "      <th>The One With The Thanksgiving Flashbacks.ru.txt</th>\n",
              "      <th>The One Where Ross Moves In.ru.txt</th>\n",
              "      <th>The One Where Phoebe Hates PBS.ru.txt</th>\n",
              "      <th>The One Hundredth.ru.txt</th>\n",
              "      <th>The One With The Kips.ru.txt</th>\n",
              "      <th>The One With Ross's Sandwich.ru.txt</th>\n",
              "      <th>The One With Chandler's Work Laugh.ru.txt</th>\n",
              "      <th>The One With The Inappropriate Sister.ru.txt</th>\n",
              "      <th>The One With Joey's Bag.ru.txt</th>\n",
              "      <th>The One Where Everybody Finds Out.ru.txt</th>\n",
              "      <th>The One With All The Resolutions.ru.txt</th>\n",
              "      <th>The One Where Rachel Smokes.ru.txt</th>\n",
              "      <th>The One With The Cop.ru.txt</th>\n",
              "      <th>...</th>\n",
              "      <th>The One Where Phoebe Runs.ru.txt</th>\n",
              "      <th>The One With The Apothecary Table.ru.txt</th>\n",
              "      <th>The One Where Ross Got High.ru.txt</th>\n",
              "      <th>The One With Rachel's Sister (1).ru.txt</th>\n",
              "      <th>The One With The Joke.ru.txt</th>\n",
              "      <th>The One Where Chandler Can't Cry (2).ru.txt</th>\n",
              "      <th>The One With Ross's Teeth.ru.txt</th>\n",
              "      <th>The One With The Routine.ru.txt</th>\n",
              "      <th>The One That Could Have Been (1).ru.txt</th>\n",
              "      <th>The One Where Ross Dates A Student.ru.txt</th>\n",
              "      <th>The One That Could Have Been (2).ru.txt</th>\n",
              "      <th>The One With Joey's Fridge.ru.txt</th>\n",
              "      <th>The One With Unagi.ru.txt</th>\n",
              "      <th>The One With The Proposal (1).ru.txt</th>\n",
              "      <th>The One With The Ring.ru.txt</th>\n",
              "      <th>The One Where Ross Meets Elizabeth's Dad.ru.txt</th>\n",
              "      <th>The One With Mac And C.H.E.E.S.E..ru.txt</th>\n",
              "      <th>The One Where Paul's The Man.ru.txt</th>\n",
              "      <th>The One With The Proposal (2).ru.txt</th>\n",
              "      <th>The One Where Monica Gets A Roommate.ru.txt</th>\n",
              "      <th>The One With The Thumb.ru.txt</th>\n",
              "      <th>The One With The Sonogram At The End.ru.txt</th>\n",
              "      <th>The One With George Stephanopoulos.ru.txt</th>\n",
              "      <th>The One Where Nana Dies Twice.ru.txt</th>\n",
              "      <th>The One With The Blackout.ru.txt</th>\n",
              "      <th>The One With The Butt.ru.txt</th>\n",
              "      <th>The One With The East German Laundry Detergent.ru.txt</th>\n",
              "      <th>The One With The Monkey.ru.txt</th>\n",
              "      <th>The One Where Underdog Gets Away.ru.txt</th>\n",
              "      <th>The One With Mrs. Bing.ru.txt</th>\n",
              "      <th>The One With The Dozen Lasagnas.ru.txt</th>\n",
              "      <th>The One With The Boobies.ru.txt</th>\n",
              "      <th>The One With The Candy Hearts.ru.txt</th>\n",
              "      <th>The One With Two Parts (2).ru.txt</th>\n",
              "      <th>The One With Two Parts (1).ru.txt</th>\n",
              "      <th>The One Where The Monkey Gets Away.ru.txt</th>\n",
              "      <th>The One With All The Poker.ru.txt</th>\n",
              "      <th>The One With The Stoned Guy.ru.txt</th>\n",
              "      <th>The One With The Evil Orthodontist.ru.txt</th>\n",
              "      <th>total</th>\n",
              "    </tr>\n",
              "  </thead>\n",
              "  <tbody>\n",
              "    <tr>\n",
              "      <th>ты</th>\n",
              "      <td>69</td>\n",
              "      <td>82</td>\n",
              "      <td>68</td>\n",
              "      <td>75</td>\n",
              "      <td>64</td>\n",
              "      <td>52</td>\n",
              "      <td>74</td>\n",
              "      <td>81</td>\n",
              "      <td>64</td>\n",
              "      <td>64</td>\n",
              "      <td>42</td>\n",
              "      <td>61</td>\n",
              "      <td>81</td>\n",
              "      <td>70</td>\n",
              "      <td>57</td>\n",
              "      <td>55</td>\n",
              "      <td>57</td>\n",
              "      <td>61</td>\n",
              "      <td>72</td>\n",
              "      <td>75</td>\n",
              "      <td>61</td>\n",
              "      <td>58</td>\n",
              "      <td>77</td>\n",
              "      <td>50</td>\n",
              "      <td>60</td>\n",
              "      <td>88</td>\n",
              "      <td>75</td>\n",
              "      <td>70</td>\n",
              "      <td>60</td>\n",
              "      <td>78</td>\n",
              "      <td>58</td>\n",
              "      <td>69</td>\n",
              "      <td>59</td>\n",
              "      <td>92</td>\n",
              "      <td>87</td>\n",
              "      <td>74</td>\n",
              "      <td>66</td>\n",
              "      <td>79</td>\n",
              "      <td>64</td>\n",
              "      <td>63</td>\n",
              "      <td>...</td>\n",
              "      <td>94</td>\n",
              "      <td>66</td>\n",
              "      <td>67</td>\n",
              "      <td>85</td>\n",
              "      <td>94</td>\n",
              "      <td>84</td>\n",
              "      <td>79</td>\n",
              "      <td>47</td>\n",
              "      <td>68</td>\n",
              "      <td>77</td>\n",
              "      <td>75</td>\n",
              "      <td>86</td>\n",
              "      <td>52</td>\n",
              "      <td>66</td>\n",
              "      <td>59</td>\n",
              "      <td>70</td>\n",
              "      <td>89</td>\n",
              "      <td>82</td>\n",
              "      <td>77</td>\n",
              "      <td>100</td>\n",
              "      <td>51</td>\n",
              "      <td>41</td>\n",
              "      <td>50</td>\n",
              "      <td>42</td>\n",
              "      <td>49</td>\n",
              "      <td>62</td>\n",
              "      <td>63</td>\n",
              "      <td>68</td>\n",
              "      <td>68</td>\n",
              "      <td>76</td>\n",
              "      <td>52</td>\n",
              "      <td>80</td>\n",
              "      <td>73</td>\n",
              "      <td>63</td>\n",
              "      <td>52</td>\n",
              "      <td>52</td>\n",
              "      <td>39</td>\n",
              "      <td>41</td>\n",
              "      <td>73</td>\n",
              "      <td>11176.0</td>\n",
              "    </tr>\n",
              "  </tbody>\n",
              "</table>\n",
              "<p>1 rows × 166 columns</p>\n",
              "</div>"
            ],
            "text/plain": [
              "    The One With Rachel's Book.ru.txt  ...    total\n",
              "ты                                 69  ...  11176.0\n",
              "\n",
              "[1 rows x 166 columns]"
            ]
          },
          "metadata": {
            "tags": []
          },
          "execution_count": 53
        }
      ]
    },
    {
      "cell_type": "markdown",
      "metadata": {
        "id": "f9Ctguz8BMTF",
        "colab_type": "text"
      },
      "source": [
        "b) какое самым редким"
      ]
    },
    {
      "cell_type": "code",
      "metadata": {
        "id": "DLUDrJrHKJ1Y",
        "colab_type": "code",
        "colab": {
          "base_uri": "https://localhost:8080/",
          "height": 355
        },
        "outputId": "c9d88377-f36e-44b7-d45a-5872ad1dd86e"
      },
      "source": [
        "df2[df2['total']==df2['total'].min()].head() #самые редкие слова"
      ],
      "execution_count": 74,
      "outputs": [
        {
          "output_type": "execute_result",
          "data": {
            "text/html": [
              "<div>\n",
              "<style scoped>\n",
              "    .dataframe tbody tr th:only-of-type {\n",
              "        vertical-align: middle;\n",
              "    }\n",
              "\n",
              "    .dataframe tbody tr th {\n",
              "        vertical-align: top;\n",
              "    }\n",
              "\n",
              "    .dataframe thead th {\n",
              "        text-align: right;\n",
              "    }\n",
              "</style>\n",
              "<table border=\"1\" class=\"dataframe\">\n",
              "  <thead>\n",
              "    <tr style=\"text-align: right;\">\n",
              "      <th></th>\n",
              "      <th>The One With Rachel's Book.ru.txt</th>\n",
              "      <th>The One With Monica's Thunder.ru.txt</th>\n",
              "      <th>The One Where Chandler Doesn't Like Dogs.ru.txt</th>\n",
              "      <th>The One With The Engagement Picture.ru.txt</th>\n",
              "      <th>The One With All The Candy.ru.txt</th>\n",
              "      <th>The One With Ross's Library Book.ru.txt</th>\n",
              "      <th>The One With Phoebe's Cookies.ru.txt</th>\n",
              "      <th>The One With The Nap Partners.ru.txt</th>\n",
              "      <th>The One With Rachel's Assistant.ru.txt</th>\n",
              "      <th>The One With The Holiday Armadillo.ru.txt</th>\n",
              "      <th>The One Where Rosita Dies.ru.txt</th>\n",
              "      <th>The One With Joey's New Brain.ru.txt</th>\n",
              "      <th>The One With All The Cheesecakes.ru.txt</th>\n",
              "      <th>The One Where They're Up All Night.ru.txt</th>\n",
              "      <th>The One Where They All Turn Thirty.ru.txt</th>\n",
              "      <th>The One With The Cheap Wedding Dress.ru.txt</th>\n",
              "      <th>The One With Ross And Monica's Cousin.ru.txt</th>\n",
              "      <th>The One With Joey's Award.ru.txt</th>\n",
              "      <th>The One With The Truth About London.ru.txt</th>\n",
              "      <th>The One With Rachel's Big Kiss.ru.txt</th>\n",
              "      <th>The One With The Vows.ru.txt</th>\n",
              "      <th>The One With Chandler's Dad.ru.txt</th>\n",
              "      <th>The One With Chandler And Monica's Wedding (2).ru.txt</th>\n",
              "      <th>The One With Chandler And Monica's Wedding (1).ru.txt</th>\n",
              "      <th>The One After Ross Says Rachel.ru.txt</th>\n",
              "      <th>The One With All The Kissing.ru.txt</th>\n",
              "      <th>The One With The Yeti.ru.txt</th>\n",
              "      <th>The One With The Thanksgiving Flashbacks.ru.txt</th>\n",
              "      <th>The One Where Ross Moves In.ru.txt</th>\n",
              "      <th>The One Where Phoebe Hates PBS.ru.txt</th>\n",
              "      <th>The One Hundredth.ru.txt</th>\n",
              "      <th>The One With The Kips.ru.txt</th>\n",
              "      <th>The One With Ross's Sandwich.ru.txt</th>\n",
              "      <th>The One With Chandler's Work Laugh.ru.txt</th>\n",
              "      <th>The One With The Inappropriate Sister.ru.txt</th>\n",
              "      <th>The One With Joey's Bag.ru.txt</th>\n",
              "      <th>The One Where Everybody Finds Out.ru.txt</th>\n",
              "      <th>The One With All The Resolutions.ru.txt</th>\n",
              "      <th>The One Where Rachel Smokes.ru.txt</th>\n",
              "      <th>The One With The Cop.ru.txt</th>\n",
              "      <th>...</th>\n",
              "      <th>The One Where Phoebe Runs.ru.txt</th>\n",
              "      <th>The One With The Apothecary Table.ru.txt</th>\n",
              "      <th>The One Where Ross Got High.ru.txt</th>\n",
              "      <th>The One With Rachel's Sister (1).ru.txt</th>\n",
              "      <th>The One With The Joke.ru.txt</th>\n",
              "      <th>The One Where Chandler Can't Cry (2).ru.txt</th>\n",
              "      <th>The One With Ross's Teeth.ru.txt</th>\n",
              "      <th>The One With The Routine.ru.txt</th>\n",
              "      <th>The One That Could Have Been (1).ru.txt</th>\n",
              "      <th>The One Where Ross Dates A Student.ru.txt</th>\n",
              "      <th>The One That Could Have Been (2).ru.txt</th>\n",
              "      <th>The One With Joey's Fridge.ru.txt</th>\n",
              "      <th>The One With Unagi.ru.txt</th>\n",
              "      <th>The One With The Proposal (1).ru.txt</th>\n",
              "      <th>The One With The Ring.ru.txt</th>\n",
              "      <th>The One Where Ross Meets Elizabeth's Dad.ru.txt</th>\n",
              "      <th>The One With Mac And C.H.E.E.S.E..ru.txt</th>\n",
              "      <th>The One Where Paul's The Man.ru.txt</th>\n",
              "      <th>The One With The Proposal (2).ru.txt</th>\n",
              "      <th>The One Where Monica Gets A Roommate.ru.txt</th>\n",
              "      <th>The One With The Thumb.ru.txt</th>\n",
              "      <th>The One With The Sonogram At The End.ru.txt</th>\n",
              "      <th>The One With George Stephanopoulos.ru.txt</th>\n",
              "      <th>The One Where Nana Dies Twice.ru.txt</th>\n",
              "      <th>The One With The Blackout.ru.txt</th>\n",
              "      <th>The One With The Butt.ru.txt</th>\n",
              "      <th>The One With The East German Laundry Detergent.ru.txt</th>\n",
              "      <th>The One With The Monkey.ru.txt</th>\n",
              "      <th>The One Where Underdog Gets Away.ru.txt</th>\n",
              "      <th>The One With Mrs. Bing.ru.txt</th>\n",
              "      <th>The One With The Dozen Lasagnas.ru.txt</th>\n",
              "      <th>The One With The Boobies.ru.txt</th>\n",
              "      <th>The One With The Candy Hearts.ru.txt</th>\n",
              "      <th>The One With Two Parts (2).ru.txt</th>\n",
              "      <th>The One With Two Parts (1).ru.txt</th>\n",
              "      <th>The One Where The Monkey Gets Away.ru.txt</th>\n",
              "      <th>The One With All The Poker.ru.txt</th>\n",
              "      <th>The One With The Stoned Guy.ru.txt</th>\n",
              "      <th>The One With The Evil Orthodontist.ru.txt</th>\n",
              "      <th>total</th>\n",
              "    </tr>\n",
              "  </thead>\n",
              "  <tbody>\n",
              "    <tr>\n",
              "      <th>aa</th>\n",
              "      <td>0</td>\n",
              "      <td>0</td>\n",
              "      <td>0</td>\n",
              "      <td>0</td>\n",
              "      <td>0</td>\n",
              "      <td>0</td>\n",
              "      <td>0</td>\n",
              "      <td>0</td>\n",
              "      <td>0</td>\n",
              "      <td>0</td>\n",
              "      <td>0</td>\n",
              "      <td>0</td>\n",
              "      <td>0</td>\n",
              "      <td>0</td>\n",
              "      <td>0</td>\n",
              "      <td>0</td>\n",
              "      <td>0</td>\n",
              "      <td>0</td>\n",
              "      <td>0</td>\n",
              "      <td>0</td>\n",
              "      <td>0</td>\n",
              "      <td>0</td>\n",
              "      <td>0</td>\n",
              "      <td>0</td>\n",
              "      <td>0</td>\n",
              "      <td>0</td>\n",
              "      <td>0</td>\n",
              "      <td>0</td>\n",
              "      <td>0</td>\n",
              "      <td>0</td>\n",
              "      <td>0</td>\n",
              "      <td>0</td>\n",
              "      <td>0</td>\n",
              "      <td>0</td>\n",
              "      <td>0</td>\n",
              "      <td>0</td>\n",
              "      <td>0</td>\n",
              "      <td>0</td>\n",
              "      <td>0</td>\n",
              "      <td>0</td>\n",
              "      <td>...</td>\n",
              "      <td>0</td>\n",
              "      <td>0</td>\n",
              "      <td>0</td>\n",
              "      <td>0</td>\n",
              "      <td>0</td>\n",
              "      <td>0</td>\n",
              "      <td>0</td>\n",
              "      <td>0</td>\n",
              "      <td>0</td>\n",
              "      <td>0</td>\n",
              "      <td>0</td>\n",
              "      <td>0</td>\n",
              "      <td>0</td>\n",
              "      <td>0</td>\n",
              "      <td>0</td>\n",
              "      <td>0</td>\n",
              "      <td>0</td>\n",
              "      <td>0</td>\n",
              "      <td>0</td>\n",
              "      <td>0</td>\n",
              "      <td>0</td>\n",
              "      <td>0</td>\n",
              "      <td>0</td>\n",
              "      <td>0</td>\n",
              "      <td>0</td>\n",
              "      <td>0</td>\n",
              "      <td>0</td>\n",
              "      <td>0</td>\n",
              "      <td>0</td>\n",
              "      <td>0</td>\n",
              "      <td>0</td>\n",
              "      <td>0</td>\n",
              "      <td>0</td>\n",
              "      <td>0</td>\n",
              "      <td>0</td>\n",
              "      <td>0</td>\n",
              "      <td>0</td>\n",
              "      <td>0</td>\n",
              "      <td>0</td>\n",
              "      <td>1.0</td>\n",
              "    </tr>\n",
              "    <tr>\n",
              "      <th>afr</th>\n",
              "      <td>0</td>\n",
              "      <td>0</td>\n",
              "      <td>0</td>\n",
              "      <td>0</td>\n",
              "      <td>1</td>\n",
              "      <td>0</td>\n",
              "      <td>0</td>\n",
              "      <td>0</td>\n",
              "      <td>0</td>\n",
              "      <td>0</td>\n",
              "      <td>0</td>\n",
              "      <td>0</td>\n",
              "      <td>0</td>\n",
              "      <td>0</td>\n",
              "      <td>0</td>\n",
              "      <td>0</td>\n",
              "      <td>0</td>\n",
              "      <td>0</td>\n",
              "      <td>0</td>\n",
              "      <td>0</td>\n",
              "      <td>0</td>\n",
              "      <td>0</td>\n",
              "      <td>0</td>\n",
              "      <td>0</td>\n",
              "      <td>0</td>\n",
              "      <td>0</td>\n",
              "      <td>0</td>\n",
              "      <td>0</td>\n",
              "      <td>0</td>\n",
              "      <td>0</td>\n",
              "      <td>0</td>\n",
              "      <td>0</td>\n",
              "      <td>0</td>\n",
              "      <td>0</td>\n",
              "      <td>0</td>\n",
              "      <td>0</td>\n",
              "      <td>0</td>\n",
              "      <td>0</td>\n",
              "      <td>0</td>\n",
              "      <td>0</td>\n",
              "      <td>...</td>\n",
              "      <td>0</td>\n",
              "      <td>0</td>\n",
              "      <td>0</td>\n",
              "      <td>0</td>\n",
              "      <td>0</td>\n",
              "      <td>0</td>\n",
              "      <td>0</td>\n",
              "      <td>0</td>\n",
              "      <td>0</td>\n",
              "      <td>0</td>\n",
              "      <td>0</td>\n",
              "      <td>0</td>\n",
              "      <td>0</td>\n",
              "      <td>0</td>\n",
              "      <td>0</td>\n",
              "      <td>0</td>\n",
              "      <td>0</td>\n",
              "      <td>0</td>\n",
              "      <td>0</td>\n",
              "      <td>0</td>\n",
              "      <td>0</td>\n",
              "      <td>0</td>\n",
              "      <td>0</td>\n",
              "      <td>0</td>\n",
              "      <td>0</td>\n",
              "      <td>0</td>\n",
              "      <td>0</td>\n",
              "      <td>0</td>\n",
              "      <td>0</td>\n",
              "      <td>0</td>\n",
              "      <td>0</td>\n",
              "      <td>0</td>\n",
              "      <td>0</td>\n",
              "      <td>0</td>\n",
              "      <td>0</td>\n",
              "      <td>0</td>\n",
              "      <td>0</td>\n",
              "      <td>0</td>\n",
              "      <td>0</td>\n",
              "      <td>1.0</td>\n",
              "    </tr>\n",
              "    <tr>\n",
              "      <th>aga</th>\n",
              "      <td>0</td>\n",
              "      <td>0</td>\n",
              "      <td>0</td>\n",
              "      <td>0</td>\n",
              "      <td>0</td>\n",
              "      <td>0</td>\n",
              "      <td>0</td>\n",
              "      <td>0</td>\n",
              "      <td>0</td>\n",
              "      <td>0</td>\n",
              "      <td>0</td>\n",
              "      <td>0</td>\n",
              "      <td>0</td>\n",
              "      <td>0</td>\n",
              "      <td>0</td>\n",
              "      <td>0</td>\n",
              "      <td>0</td>\n",
              "      <td>0</td>\n",
              "      <td>0</td>\n",
              "      <td>0</td>\n",
              "      <td>0</td>\n",
              "      <td>0</td>\n",
              "      <td>0</td>\n",
              "      <td>0</td>\n",
              "      <td>0</td>\n",
              "      <td>0</td>\n",
              "      <td>0</td>\n",
              "      <td>0</td>\n",
              "      <td>0</td>\n",
              "      <td>0</td>\n",
              "      <td>0</td>\n",
              "      <td>0</td>\n",
              "      <td>0</td>\n",
              "      <td>0</td>\n",
              "      <td>0</td>\n",
              "      <td>0</td>\n",
              "      <td>0</td>\n",
              "      <td>0</td>\n",
              "      <td>0</td>\n",
              "      <td>0</td>\n",
              "      <td>...</td>\n",
              "      <td>0</td>\n",
              "      <td>0</td>\n",
              "      <td>0</td>\n",
              "      <td>0</td>\n",
              "      <td>0</td>\n",
              "      <td>0</td>\n",
              "      <td>0</td>\n",
              "      <td>0</td>\n",
              "      <td>0</td>\n",
              "      <td>0</td>\n",
              "      <td>0</td>\n",
              "      <td>0</td>\n",
              "      <td>0</td>\n",
              "      <td>0</td>\n",
              "      <td>0</td>\n",
              "      <td>0</td>\n",
              "      <td>0</td>\n",
              "      <td>0</td>\n",
              "      <td>0</td>\n",
              "      <td>0</td>\n",
              "      <td>0</td>\n",
              "      <td>0</td>\n",
              "      <td>0</td>\n",
              "      <td>0</td>\n",
              "      <td>0</td>\n",
              "      <td>0</td>\n",
              "      <td>0</td>\n",
              "      <td>0</td>\n",
              "      <td>0</td>\n",
              "      <td>0</td>\n",
              "      <td>0</td>\n",
              "      <td>0</td>\n",
              "      <td>0</td>\n",
              "      <td>0</td>\n",
              "      <td>0</td>\n",
              "      <td>0</td>\n",
              "      <td>0</td>\n",
              "      <td>0</td>\n",
              "      <td>0</td>\n",
              "      <td>1.0</td>\n",
              "    </tr>\n",
              "    <tr>\n",
              "      <th>ahh</th>\n",
              "      <td>0</td>\n",
              "      <td>0</td>\n",
              "      <td>0</td>\n",
              "      <td>0</td>\n",
              "      <td>0</td>\n",
              "      <td>0</td>\n",
              "      <td>0</td>\n",
              "      <td>0</td>\n",
              "      <td>0</td>\n",
              "      <td>0</td>\n",
              "      <td>0</td>\n",
              "      <td>0</td>\n",
              "      <td>0</td>\n",
              "      <td>0</td>\n",
              "      <td>0</td>\n",
              "      <td>0</td>\n",
              "      <td>0</td>\n",
              "      <td>0</td>\n",
              "      <td>0</td>\n",
              "      <td>0</td>\n",
              "      <td>0</td>\n",
              "      <td>0</td>\n",
              "      <td>0</td>\n",
              "      <td>0</td>\n",
              "      <td>0</td>\n",
              "      <td>1</td>\n",
              "      <td>0</td>\n",
              "      <td>0</td>\n",
              "      <td>0</td>\n",
              "      <td>0</td>\n",
              "      <td>0</td>\n",
              "      <td>0</td>\n",
              "      <td>0</td>\n",
              "      <td>0</td>\n",
              "      <td>0</td>\n",
              "      <td>0</td>\n",
              "      <td>0</td>\n",
              "      <td>0</td>\n",
              "      <td>0</td>\n",
              "      <td>0</td>\n",
              "      <td>...</td>\n",
              "      <td>0</td>\n",
              "      <td>0</td>\n",
              "      <td>0</td>\n",
              "      <td>0</td>\n",
              "      <td>0</td>\n",
              "      <td>0</td>\n",
              "      <td>0</td>\n",
              "      <td>0</td>\n",
              "      <td>0</td>\n",
              "      <td>0</td>\n",
              "      <td>0</td>\n",
              "      <td>0</td>\n",
              "      <td>0</td>\n",
              "      <td>0</td>\n",
              "      <td>0</td>\n",
              "      <td>0</td>\n",
              "      <td>0</td>\n",
              "      <td>0</td>\n",
              "      <td>0</td>\n",
              "      <td>0</td>\n",
              "      <td>0</td>\n",
              "      <td>0</td>\n",
              "      <td>0</td>\n",
              "      <td>0</td>\n",
              "      <td>0</td>\n",
              "      <td>0</td>\n",
              "      <td>0</td>\n",
              "      <td>0</td>\n",
              "      <td>0</td>\n",
              "      <td>0</td>\n",
              "      <td>0</td>\n",
              "      <td>0</td>\n",
              "      <td>0</td>\n",
              "      <td>0</td>\n",
              "      <td>0</td>\n",
              "      <td>0</td>\n",
              "      <td>0</td>\n",
              "      <td>0</td>\n",
              "      <td>0</td>\n",
              "      <td>1.0</td>\n",
              "    </tr>\n",
              "    <tr>\n",
              "      <th>ar</th>\n",
              "      <td>0</td>\n",
              "      <td>0</td>\n",
              "      <td>0</td>\n",
              "      <td>0</td>\n",
              "      <td>0</td>\n",
              "      <td>0</td>\n",
              "      <td>0</td>\n",
              "      <td>0</td>\n",
              "      <td>0</td>\n",
              "      <td>0</td>\n",
              "      <td>0</td>\n",
              "      <td>0</td>\n",
              "      <td>0</td>\n",
              "      <td>0</td>\n",
              "      <td>0</td>\n",
              "      <td>0</td>\n",
              "      <td>0</td>\n",
              "      <td>0</td>\n",
              "      <td>0</td>\n",
              "      <td>0</td>\n",
              "      <td>0</td>\n",
              "      <td>0</td>\n",
              "      <td>0</td>\n",
              "      <td>0</td>\n",
              "      <td>0</td>\n",
              "      <td>0</td>\n",
              "      <td>0</td>\n",
              "      <td>0</td>\n",
              "      <td>0</td>\n",
              "      <td>0</td>\n",
              "      <td>0</td>\n",
              "      <td>0</td>\n",
              "      <td>0</td>\n",
              "      <td>0</td>\n",
              "      <td>0</td>\n",
              "      <td>0</td>\n",
              "      <td>0</td>\n",
              "      <td>0</td>\n",
              "      <td>0</td>\n",
              "      <td>0</td>\n",
              "      <td>...</td>\n",
              "      <td>0</td>\n",
              "      <td>0</td>\n",
              "      <td>0</td>\n",
              "      <td>0</td>\n",
              "      <td>0</td>\n",
              "      <td>0</td>\n",
              "      <td>0</td>\n",
              "      <td>0</td>\n",
              "      <td>0</td>\n",
              "      <td>0</td>\n",
              "      <td>0</td>\n",
              "      <td>0</td>\n",
              "      <td>0</td>\n",
              "      <td>0</td>\n",
              "      <td>0</td>\n",
              "      <td>0</td>\n",
              "      <td>0</td>\n",
              "      <td>0</td>\n",
              "      <td>0</td>\n",
              "      <td>0</td>\n",
              "      <td>0</td>\n",
              "      <td>0</td>\n",
              "      <td>0</td>\n",
              "      <td>0</td>\n",
              "      <td>0</td>\n",
              "      <td>0</td>\n",
              "      <td>0</td>\n",
              "      <td>0</td>\n",
              "      <td>0</td>\n",
              "      <td>0</td>\n",
              "      <td>0</td>\n",
              "      <td>0</td>\n",
              "      <td>0</td>\n",
              "      <td>0</td>\n",
              "      <td>0</td>\n",
              "      <td>0</td>\n",
              "      <td>0</td>\n",
              "      <td>0</td>\n",
              "      <td>0</td>\n",
              "      <td>1.0</td>\n",
              "    </tr>\n",
              "  </tbody>\n",
              "</table>\n",
              "<p>5 rows × 166 columns</p>\n",
              "</div>"
            ],
            "text/plain": [
              "     The One With Rachel's Book.ru.txt  ...  total\n",
              "aa                                   0  ...    1.0\n",
              "afr                                  0  ...    1.0\n",
              "aga                                  0  ...    1.0\n",
              "ahh                                  0  ...    1.0\n",
              "ar                                   0  ...    1.0\n",
              "\n",
              "[5 rows x 166 columns]"
            ]
          },
          "metadata": {
            "tags": []
          },
          "execution_count": 74
        }
      ]
    },
    {
      "cell_type": "markdown",
      "metadata": {
        "id": "K9rZBArbA7WU",
        "colab_type": "text"
      },
      "source": [
        "c) какой набор слов есть во всех документах коллекции"
      ]
    },
    {
      "cell_type": "code",
      "metadata": {
        "id": "pyp23byeB5Vx",
        "colab_type": "code",
        "colab": {
          "base_uri": "https://localhost:8080/",
          "height": 54
        },
        "outputId": "ea1039e0-40a3-4772-c000-4eea6800fb47"
      },
      "source": [
        "most_freq_words = []\n",
        "freq_words = []\n",
        "for indx, row in enumerate(reverse_matrix):\n",
        "  k = 0\n",
        "  for i in row:\n",
        "    if i != 0:\n",
        "      k += 1\n",
        "  if k == 165:\n",
        "    most_freq_words.append(indx)\n",
        "\n",
        "for i in most_freq_words:\n",
        "  freq_words.append(words[i])\n",
        "print(\"Слова, встречающиеся во всех сериях: \", freq_words)"
      ],
      "execution_count": 60,
      "outputs": [
        {
          "output_type": "stream",
          "text": [
            "Слова, встречающиеся во всех сериях:  ['быть', 'весь', 'да', 'думать', 'если', 'ещё', 'знать', 'как', 'мой', 'мочь', 'мы', 'на', 'не', 'нет', 'но', 'ну', 'он', 'она', 'просто', 'так', 'такой', 'тот', 'ты', 'хотеть', 'что', 'это', 'этот']\n"
          ],
          "name": "stdout"
        }
      ]
    },
    {
      "cell_type": "markdown",
      "metadata": {
        "id": "RVyeN6GnA_Ro",
        "colab_type": "text"
      },
      "source": [
        "d) какой сезон был самым популярным у Чендлера? у Моники?"
      ]
    },
    {
      "cell_type": "markdown",
      "metadata": {
        "id": "7B2x-kyTBBeA",
        "colab_type": "text"
      },
      "source": [
        "e) кто из главных героев статистически самый популярный?"
      ]
    },
    {
      "cell_type": "code",
      "metadata": {
        "id": "uYodoZzPLz28",
        "colab_type": "code",
        "colab": {
          "base_uri": "https://localhost:8080/",
          "height": 34
        },
        "outputId": "38217b23-22ff-43aa-a7d2-66b8ff2636f7"
      },
      "source": [
        "ind_mon = df2.index.get_loc('моника')\n",
        "df2['total'].iloc[ind_mon]"
      ],
      "execution_count": 67,
      "outputs": [
        {
          "output_type": "execute_result",
          "data": {
            "text/plain": [
              "683.0"
            ]
          },
          "metadata": {
            "tags": []
          },
          "execution_count": 67
        }
      ]
    },
    {
      "cell_type": "code",
      "metadata": {
        "id": "HSlnYkmnNLJd",
        "colab_type": "code",
        "colab": {
          "base_uri": "https://localhost:8080/",
          "height": 34
        },
        "outputId": "d2f0c59b-6a69-4b15-83b1-232592699b6a"
      },
      "source": [
        "ind_mon = df2.index.get_loc('чендлер')\n",
        "df2['total'].iloc[ind_mon]"
      ],
      "execution_count": 68,
      "outputs": [
        {
          "output_type": "execute_result",
          "data": {
            "text/plain": [
              "46.0"
            ]
          },
          "metadata": {
            "tags": []
          },
          "execution_count": 68
        }
      ]
    },
    {
      "cell_type": "code",
      "metadata": {
        "id": "ilUZUpvHNUXf",
        "colab_type": "code",
        "colab": {
          "base_uri": "https://localhost:8080/",
          "height": 34
        },
        "outputId": "ec8ae8e0-9b49-4b57-8731-cbd123983eec"
      },
      "source": [
        "ind_mon = df2.index.get_loc('рэйчел')\n",
        "df2['total'].iloc[ind_mon]"
      ],
      "execution_count": 70,
      "outputs": [
        {
          "output_type": "execute_result",
          "data": {
            "text/plain": [
              "236.0"
            ]
          },
          "metadata": {
            "tags": []
          },
          "execution_count": 70
        }
      ]
    },
    {
      "cell_type": "code",
      "metadata": {
        "id": "pNtSYYsrNYPA",
        "colab_type": "code",
        "colab": {
          "base_uri": "https://localhost:8080/",
          "height": 34
        },
        "outputId": "fd9d7df8-8f41-485f-8e63-ca2392536b6c"
      },
      "source": [
        "ind_mon = df2.index.get_loc('росс')\n",
        "df2['total'].iloc[ind_mon]"
      ],
      "execution_count": 71,
      "outputs": [
        {
          "output_type": "execute_result",
          "data": {
            "text/plain": [
              "1015.0"
            ]
          },
          "metadata": {
            "tags": []
          },
          "execution_count": 71
        }
      ]
    },
    {
      "cell_type": "code",
      "metadata": {
        "id": "RvwfxRqvNZ_A",
        "colab_type": "code",
        "colab": {
          "base_uri": "https://localhost:8080/",
          "height": 34
        },
        "outputId": "b9714998-6bdc-4b97-a7ec-160c167f2a19"
      },
      "source": [
        "ind_mon = df2.index.get_loc('фиби')\n",
        "df2['total'].iloc[ind_mon]"
      ],
      "execution_count": 72,
      "outputs": [
        {
          "output_type": "execute_result",
          "data": {
            "text/plain": [
              "568.0"
            ]
          },
          "metadata": {
            "tags": []
          },
          "execution_count": 72
        }
      ]
    },
    {
      "cell_type": "code",
      "metadata": {
        "id": "BoyaUQiNNRD8",
        "colab_type": "code",
        "colab": {
          "base_uri": "https://localhost:8080/",
          "height": 34
        },
        "outputId": "ee206625-6b12-461c-af4e-481fb6f849c9"
      },
      "source": [
        "ind_mon = df2.index.get_loc('джо')\n",
        "df2['total'].iloc[ind_mon]"
      ],
      "execution_count": 73,
      "outputs": [
        {
          "output_type": "execute_result",
          "data": {
            "text/plain": [
              "135.0"
            ]
          },
          "metadata": {
            "tags": []
          },
          "execution_count": 73
        }
      ]
    },
    {
      "cell_type": "markdown",
      "metadata": {
        "id": "zX7EWfP7Nybj",
        "colab_type": "text"
      },
      "source": [
        "Ответ: Росс - самый статистически популярный."
      ]
    }
  ]
}